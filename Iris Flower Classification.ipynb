{
 "cells": [
  {
   "cell_type": "markdown",
   "metadata": {},
   "source": [
    "${\\bf Project \\space 1: \\space Iris \\space Data \\space Classification}$"
   ]
  },
  {
   "cell_type": "markdown",
   "metadata": {},
   "source": [
    "This code goes through several methods of ML multiclass classification on the Iris Flower Data"
   ]
  },
  {
   "cell_type": "code",
   "execution_count": 1,
   "metadata": {},
   "outputs": [],
   "source": [
    "#  Import Libraries\n",
    "import numpy as np\n",
    "import matplotlib.pyplot as plt\n",
    "from sklearn.datasets import load_iris\n",
    "from sklearn.naive_bayes import GaussianNB\n",
    "from sklearn.model_selection import train_test_split\n",
    "from sklearn.cluster import KMeans\n",
    "from sklearn import neighbors\n",
    "from sklearn import svm\n",
    "from sklearn.metrics import accuracy_score\n",
    "from sklearn.tree import DecisionTreeClassifier\n",
    "from sklearn.ensemble import RandomForestClassifier"
   ]
  },
  {
   "cell_type": "code",
   "execution_count": 8,
   "metadata": {},
   "outputs": [
    {
     "name": "stdout",
     "output_type": "stream",
     "text": [
      "Training size:  (96, 4) Validating size:  (24, 4) Testing size:  (30, 4)\n"
     ]
    }
   ],
   "source": [
    "#  Load and split iris data for training, validating, and testing.\n",
    "iris_data = load_iris()\n",
    "\n",
    "features, features_test, target, target_test = train_test_split(iris_data.data, iris_data.target, test_size=0.20)\n",
    "f_train, f_valid, t_train, t_valid = train_test_split(features, target, test_size=0.20)\n",
    "\n",
    "print(\"Training size: \", f_train.shape, \"Validating size: \", f_valid.shape, \"Testing size: \", features_test.shape)"
   ]
  },
  {
   "cell_type": "code",
   "execution_count": 10,
   "metadata": {},
   "outputs": [
    {
     "data": {
      "image/png": "[encoded data removed]",
      "text/plain": [
       "<Figure size 432x288 with 1 Axes>"
      ]
     },
     "metadata": {
      "needs_background": "light"
     },
     "output_type": "display_data"
    }
   ],
   "source": [
    "#  Lets plot some of the data\n",
    "index0 = target == 0\n",
    "index1 = target == 1\n",
    "index2 = target == 2\n",
    "\n",
    "plt.plot(features[index0, 0], features[index0, 3], 'o', color='r', markersize=4)\n",
    "plt.plot(features[index1, 0], features[index1, 3], 'o', color='k', markersize=4)\n",
    "plt.plot(features[index2, 0], features[index2, 3], 'o', color='b', markersize=4)\n",
    "\n",
    "plt.xlabel('Sepal Length (cm)')\n",
    "plt.ylabel('Petal width (cm)')\n",
    "\n",
    "plt.show()"
   ]
  },
  {
   "cell_type": "code",
   "execution_count": 56,
   "metadata": {},
   "outputs": [
    {
     "name": "stdout",
     "output_type": "stream",
     "text": [
      "Accuracy Scores\n",
      "Naive Bayes:  0.9583333333333334\n"
     ]
    }
   ],
   "source": [
    "#  Method 1: Naive Bayes, easy and simple\n",
    "\n",
    "clf = GaussianNB()\n",
    "clf.fit(f_train, t_train)\n",
    "\n",
    "print(\"Accuracy Scores\")\n",
    "print(\"Naive Bayes: \", clf.score(f_valid, t_valid))"
   ]
  },
  {
   "cell_type": "markdown",
   "metadata": {},
   "source": [
    "About 96% accuracy with Naive Bayes, not bad for a quick/simple approach."
   ]
  },
  {
   "cell_type": "code",
   "execution_count": 53,
   "metadata": {},
   "outputs": [
    {
     "name": "stdout",
     "output_type": "stream",
     "text": [
      "Accuracy Scores\n",
      "Radial Basis Kernel:  0.9583333333333334\n",
      "Linear (ovo):  0.9583333333333334\n",
      "Linear (ovr):  0.9583333333333334\n",
      "Polynomial 3:  0.9583333333333334\n"
     ]
    }
   ],
   "source": [
    "#  Method 2: SVM, several options\n",
    "\n",
    "#  Define flexible hyperparameters for initial inquiry\n",
    "C = 1.0\n",
    "gamma = 1.0\n",
    "\n",
    "#  Default rbf kernel\n",
    "svc1 = svm.SVC(C=C, gamma=gamma)\n",
    "svc1.fit(f_train, t_train)\n",
    "\n",
    "#  Linear kernel using one-vs.-one\n",
    "svc2 = svm.SVC(C=C, kernel='linear')\n",
    "svc2.fit(f_train, t_train)\n",
    "\n",
    "#  Linear kernel using one-vs.-rest\n",
    "svc3 = svm.LinearSVC(C=C, max_iter=5000)  # Note the larger number of interations needed bc of training size\n",
    "svc3.fit(f_train, t_train)\n",
    "\n",
    "#  Polynomial kernel with degree 3\n",
    "svc4 = svm.SVC(C=C, gamma=gamma, kernel='poly', degree=3)\n",
    "svc4.fit(f_train, t_train)\n",
    "\n",
    "print(\"Accuracy Scores\")\n",
    "print(\"Radial Basis Kernel: \", svc1.score(f_valid, t_valid))\n",
    "print(\"Linear (ovo): \", svc2.score(f_valid, t_valid))\n",
    "print(\"Linear (ovr): \", svc3.score(f_valid, t_valid))\n",
    "print(\"Polynomial 3: \", svc4.score(f_valid, t_valid))"
   ]
  },
  {
   "cell_type": "markdown",
   "metadata": {},
   "source": [
    "All SVM classifiers predict (in this instance) equally well. \n",
    "\n",
    "I am curious regarding the linear kernels, how OVO and OVR approaches differ when both generates 3 subclassifiers as we have 3 classes.\n",
    "\n",
    "For furhter investigation, we will toggle C and/or gamma for the rbf kernel and linear (ovr) classifiers."
   ]
  },
  {
   "cell_type": "code",
   "execution_count": 49,
   "metadata": {},
   "outputs": [
    {
     "data": {
      "image/png": "[encoded data removed]",
      "text/plain": [
       "<Figure size 432x288 with 2 Axes>"
      ]
     },
     "metadata": {
      "needs_background": "light"
     },
     "output_type": "display_data"
    }
   ],
   "source": [
    "#  Run a loop to plot optimal hyperparameters for SVC with rbf kernel\n",
    "#  Linear (ovr) was too finicky with max iterations to do this\n",
    "setGammas = np.array([0.003, 0.01, 0.03, 0.1, 0.3, 1, 3, 10, 30, 100, 300])\n",
    "setCs = np.array([0.01, 0.1, 1, 10, 100, 1000])\n",
    "accuracies = np.zeros(shape=(len(setCs), len(setGammas)))\n",
    "for c in setCs:\n",
    "    for gamma in setGammas:\n",
    "        clf = svm.SVC(C=c, gamma=gamma)\n",
    "        clf.fit(f_train, t_train)\n",
    "        accuracies[setCs == c, setGammas == gamma] = clf.score(f_train, t_train)\n",
    "\n",
    "plt.contourf(setGammas, setCs, accuracies, cmap=plt.get_cmap('jet'))\n",
    "plt.xlabel(r'$\\gamma$')\n",
    "plt.ylabel('C')\n",
    "plt.xscale('log')\n",
    "plt.yscale('log')\n",
    "plt.colorbar()\n",
    "\n",
    "plt.show()"
   ]
  },
  {
   "cell_type": "markdown",
   "metadata": {},
   "source": [
    "Wow Gamma = C = 1.0 gives optimal estimation, thats crazy."
   ]
  },
  {
   "cell_type": "code",
   "execution_count": 52,
   "metadata": {},
   "outputs": [
    {
     "name": "stdout",
     "output_type": "stream",
     "text": [
      "Accuracy Scores\n",
      "Decision Tree:  0.9583333333333334\n",
      "Random Forrest:  0.9583333333333334\n"
     ]
    }
   ],
   "source": [
    "#  Method 3: Decision Trees and Random Forests\n",
    "\n",
    "clfTree = DecisionTreeClassifier()\n",
    "clfTree.fit(f_train, t_train)\n",
    "\n",
    "clfForest = RandomForestClassifier(n_estimators=50)\n",
    "clfForest.fit(f_train, t_train)\n",
    "\n",
    "print(\"Accuracy Scores\")\n",
    "print(\"Decision Tree: \", clfTree.score(f_valid, t_valid))\n",
    "print(\"Random Forrest: \", clfForest.score(f_valid, t_valid))"
   ]
  },
  {
   "cell_type": "markdown",
   "metadata": {},
   "source": [
    "Both perfom (in this case) with identical accuracy"
   ]
  },
  {
   "cell_type": "code",
   "execution_count": 57,
   "metadata": {},
   "outputs": [
    {
     "name": "stdout",
     "output_type": "stream",
     "text": [
      "Accuracy Scores\n",
      "k Nearest Neighbors:  0.9583333333333334\n"
     ]
    }
   ],
   "source": [
    "#  Method 4: Neareast Neighborhood \n",
    "\n",
    "#  Use 15 points for initial classification\n",
    "clf = neighbors.KNeighborsClassifier(n_neighbors=15)\n",
    "clf.fit(f_train, t_train)\n",
    "\n",
    "print(\"Accuracy Scores\")\n",
    "print(\"k Nearest Neighbors: \", clf.score(f_valid, t_valid))"
   ]
  },
  {
   "cell_type": "code",
   "execution_count": 59,
   "metadata": {},
   "outputs": [
    {
     "data": {
      "image/png": "[encoded data removed]",
      "text/plain": [
       "<Figure size 432x288 with 1 Axes>"
      ]
     },
     "metadata": {
      "needs_background": "light"
     },
     "output_type": "display_data"
    }
   ],
   "source": [
    "#  Lets examine optimal k\n",
    "\n",
    "k = np.arange(30) + 1\n",
    "accuracy = []\n",
    "for near in k:\n",
    "    clf = neighbors.KNeighborsClassifier(n_neighbors=near)\n",
    "    clf.fit(f_train, t_train)\n",
    "    accuracy.append(accuracy_score(t_valid, clf.predict(f_valid)))\n",
    "\n",
    "plt.plot(k, accuracy)\n",
    "plt.ylabel(\"Accuracy\")\n",
    "plt.xlabel(\"No. in neighborhood\")\n",
    "\n",
    "plt.show()"
   ]
  },
  {
   "cell_type": "markdown",
   "metadata": {},
   "source": [
    "Accuracy bounces between 96% and 100%, the latter overfitting/random partition of the data so we can select k=15 as a reasonable choice."
   ]
  },
  {
   "cell_type": "code",
   "execution_count": 61,
   "metadata": {},
   "outputs": [
    {
     "name": "stdout",
     "output_type": "stream",
     "text": [
      "Clustering:  0.375\n"
     ]
    }
   ],
   "source": [
    "#  Method 5: Unsupervised Cluster Analysis\n",
    "\n",
    "clf = KMeans(n_clusters=3)\n",
    "clf.fit(f_train)\n",
    "\n",
    "cluster = clf.predict(f_valid)\n",
    "compare = cluster == t_valid\n",
    "\n",
    "print(\"Clustering: \", accuracy_score(t_valid, cluster))"
   ]
  },
  {
   "cell_type": "markdown",
   "metadata": {},
   "source": [
    "I wanted to include this method to compare how a form of unsupervised learning might compare to supervised methods. Unsurprisingly, by ignoring a aspect of the data (i.e. we have label data) results will not be as good. Interestingly enough, prediction accuracy is wildly caotic for KMeans with this data. Because it uses random start points, different iterations have ranged from 0% to 100% prediction accuracy (WOW)! Further it is also very sensetive to the training data depending on how it is split in the beginning."
   ]
  },
  {
   "cell_type": "markdown",
   "metadata": {},
   "source": [
    "Now with several methods trained and validated, let's test them for a final comparison. "
   ]
  },
  {
   "cell_type": "code",
   "execution_count": 62,
   "metadata": {},
   "outputs": [
    {
     "name": "stdout",
     "output_type": "stream",
     "text": [
      "Naive Bayes:  0.9666666666666667\n",
      "SVM RBF Kernel:  0.9666666666666667\n",
      "SVM Linear Kernel:  1.0\n",
      "Decision Tree:  0.9333333333333333\n",
      "Random Forrest:  0.9666666666666667\n",
      "Nearest Neighborhood:  0.9333333333333333\n",
      "KMeans Cluster:  0.13333333333333333\n"
     ]
    }
   ],
   "source": [
    "clf1 = GaussianNB()\n",
    "clf2 = svm.SVC(C=1.0, gamma=1.0)\n",
    "clf3 = svm.LinearSVC(C=1.0, max_iter=5000)\n",
    "clf4 = DecisionTreeClassifier()\n",
    "clf5 = RandomForestClassifier(n_estimators=50)\n",
    "clf6 = neighbors.KNeighborsClassifier(n_neighbors=15)\n",
    "clf7 = KMeans(n_clusters=3)\n",
    "\n",
    "clf1.fit(f_train, t_train)\n",
    "clf2.fit(f_train, t_train)\n",
    "clf3.fit(f_train, t_train)\n",
    "clf4.fit(f_train, t_train)\n",
    "clf5.fit(f_train, t_train)\n",
    "clf6.fit(f_train, t_train)\n",
    "clf7.fit(f_train, t_train)\n",
    "\n",
    "print(\"Naive Bayes: \", accuracy_score(target_test, clf1.predict(features_test)))\n",
    "print(\"SVM RBF Kernel: \", accuracy_score(target_test, clf2.predict(features_test)))\n",
    "print(\"SVM Linear Kernel: \", accuracy_score(target_test, clf3.predict(features_test)))\n",
    "print(\"Decision Tree: \", accuracy_score(target_test, clf4.predict(features_test)))\n",
    "print(\"Random Forrest: \", accuracy_score(target_test, clf5.predict(features_test)))\n",
    "print(\"Nearest Neighborhood: \", accuracy_score(target_test, clf6.predict(features_test)))\n",
    "print(\"KMeans Cluster: \", accuracy_score(target_test, clf7.predict(features_test)))"
   ]
  },
  {
   "cell_type": "markdown",
   "metadata": {},
   "source": [
    "${\\bf Final \\space Remarks}$\n",
    "\n",
    "In terms of raw accuracy, the Linear Kernel has the best score, however we should not truly believe it is 100% accurate all the time but rather with the current data partition it was. Random Forest performs better than a single Decision Tree unsurprisingly. It is worth noting that Naive Bayes performs rather well and demonstrates the usefulness of a rather simple classifier."
   ]
  },
  {
   "cell_type": "code",
   "execution_count": null,
   "metadata": {},
   "outputs": [],
   "source": []
  }
 ],
 "metadata": {
  "kernelspec": {
   "display_name": "Python 3",
   "language": "python",
   "name": "python3"
  },
  "language_info": {
   "codemirror_mode": {
    "name": "ipython",
    "version": 3
   },
   "file_extension": ".py",
   "mimetype": "text/x-python",
   "name": "python",
   "nbconvert_exporter": "python",
   "pygments_lexer": "ipython3",
   "version": "3.7.3"
  }
 },
 "nbformat": 4,
 "nbformat_minor": 2
}
