{
 "cells": [
  {
   "cell_type": "markdown",
   "metadata": {},
   "source": [
    "# Marketing Coding Challenge\n",
    "### Cameron S. Goldbeck\n",
    "\n",
    "Context: A mobile app links customers with popular entertainment events. Currently, the currently app displays overall most popular events on the homepage. Developers release a change so that instead the nearest events to the user in the next week are displayed.\n",
    "\n",
    "Goal: To describe users of the app, how well the current system works, and if the new approach is better."
   ]
  },
  {
   "cell_type": "code",
   "execution_count": 2,
   "metadata": {},
   "outputs": [],
   "source": [
    "import pandas as pd\n",
    "import matplotlib.pyplot as plt\n",
    "import numpy as np"
   ]
  },
  {
   "cell_type": "code",
   "execution_count": 3,
   "metadata": {
    "scrolled": false
   },
   "outputs": [
    {
     "data": {
      "text/html": [
       "<div>\n",
       "<style scoped>\n",
       "    .dataframe tbody tr th:only-of-type {\n",
       "        vertical-align: middle;\n",
       "    }\n",
       "\n",
       "    .dataframe tbody tr th {\n",
       "        vertical-align: top;\n",
       "    }\n",
       "\n",
       "    .dataframe thead th {\n",
       "        text-align: right;\n",
       "    }\n",
       "</style>\n",
       "<table border=\"1\" class=\"dataframe\">\n",
       "  <thead>\n",
       "    <tr style=\"text-align: right;\">\n",
       "      <th></th>\n",
       "      <th>Date</th>\n",
       "      <th>Channel</th>\n",
       "      <th>User Type</th>\n",
       "      <th>Land</th>\n",
       "      <th>Bounce</th>\n",
       "      <th>Purchase</th>\n",
       "      <th>Visitors_Control</th>\n",
       "      <th>Visitors_Variant</th>\n",
       "    </tr>\n",
       "  </thead>\n",
       "  <tbody>\n",
       "    <tr>\n",
       "      <th>0</th>\n",
       "      <td>2014-10-10</td>\n",
       "      <td>Affiliate</td>\n",
       "      <td>Returning User</td>\n",
       "      <td>0</td>\n",
       "      <td>0</td>\n",
       "      <td>0</td>\n",
       "      <td>1211</td>\n",
       "      <td>1175</td>\n",
       "    </tr>\n",
       "    <tr>\n",
       "      <th>1</th>\n",
       "      <td>2014-10-10</td>\n",
       "      <td>Affiliate</td>\n",
       "      <td>Returning User</td>\n",
       "      <td>1</td>\n",
       "      <td>0</td>\n",
       "      <td>0</td>\n",
       "      <td>4076</td>\n",
       "      <td>4810</td>\n",
       "    </tr>\n",
       "    <tr>\n",
       "      <th>2</th>\n",
       "      <td>2014-10-10</td>\n",
       "      <td>Affiliate</td>\n",
       "      <td>Returning User</td>\n",
       "      <td>1</td>\n",
       "      <td>1</td>\n",
       "      <td>0</td>\n",
       "      <td>2766</td>\n",
       "      <td>3386</td>\n",
       "    </tr>\n",
       "    <tr>\n",
       "      <th>3</th>\n",
       "      <td>2014-10-10</td>\n",
       "      <td>Affiliate</td>\n",
       "      <td>Returning User</td>\n",
       "      <td>0</td>\n",
       "      <td>0</td>\n",
       "      <td>1</td>\n",
       "      <td>196</td>\n",
       "      <td>159</td>\n",
       "    </tr>\n",
       "    <tr>\n",
       "      <th>4</th>\n",
       "      <td>2014-10-10</td>\n",
       "      <td>Affiliate</td>\n",
       "      <td>Returning User</td>\n",
       "      <td>1</td>\n",
       "      <td>0</td>\n",
       "      <td>1</td>\n",
       "      <td>358</td>\n",
       "      <td>332</td>\n",
       "    </tr>\n",
       "    <tr>\n",
       "      <th>5</th>\n",
       "      <td>2014-10-10</td>\n",
       "      <td>Affiliate</td>\n",
       "      <td>New User</td>\n",
       "      <td>0</td>\n",
       "      <td>0</td>\n",
       "      <td>0</td>\n",
       "      <td>1589</td>\n",
       "      <td>1574</td>\n",
       "    </tr>\n",
       "    <tr>\n",
       "      <th>6</th>\n",
       "      <td>2014-10-10</td>\n",
       "      <td>Affiliate</td>\n",
       "      <td>New User</td>\n",
       "      <td>1</td>\n",
       "      <td>0</td>\n",
       "      <td>0</td>\n",
       "      <td>7165</td>\n",
       "      <td>6501</td>\n",
       "    </tr>\n",
       "    <tr>\n",
       "      <th>7</th>\n",
       "      <td>2014-10-10</td>\n",
       "      <td>Affiliate</td>\n",
       "      <td>New User</td>\n",
       "      <td>1</td>\n",
       "      <td>1</td>\n",
       "      <td>0</td>\n",
       "      <td>4709</td>\n",
       "      <td>4211</td>\n",
       "    </tr>\n",
       "    <tr>\n",
       "      <th>8</th>\n",
       "      <td>2014-10-10</td>\n",
       "      <td>Affiliate</td>\n",
       "      <td>New User</td>\n",
       "      <td>0</td>\n",
       "      <td>0</td>\n",
       "      <td>1</td>\n",
       "      <td>132</td>\n",
       "      <td>150</td>\n",
       "    </tr>\n",
       "    <tr>\n",
       "      <th>9</th>\n",
       "      <td>2014-10-10</td>\n",
       "      <td>Affiliate</td>\n",
       "      <td>New User</td>\n",
       "      <td>1</td>\n",
       "      <td>0</td>\n",
       "      <td>1</td>\n",
       "      <td>640</td>\n",
       "      <td>694</td>\n",
       "    </tr>\n",
       "  </tbody>\n",
       "</table>\n",
       "</div>"
      ],
      "text/plain": [
       "        Date    Channel       User Type  Land  Bounce  Purchase  \\\n",
       "0 2014-10-10  Affiliate  Returning User     0       0         0   \n",
       "1 2014-10-10  Affiliate  Returning User     1       0         0   \n",
       "2 2014-10-10  Affiliate  Returning User     1       1         0   \n",
       "3 2014-10-10  Affiliate  Returning User     0       0         1   \n",
       "4 2014-10-10  Affiliate  Returning User     1       0         1   \n",
       "5 2014-10-10  Affiliate        New User     0       0         0   \n",
       "6 2014-10-10  Affiliate        New User     1       0         0   \n",
       "7 2014-10-10  Affiliate        New User     1       1         0   \n",
       "8 2014-10-10  Affiliate        New User     0       0         1   \n",
       "9 2014-10-10  Affiliate        New User     1       0         1   \n",
       "\n",
       "   Visitors_Control  Visitors_Variant  \n",
       "0              1211              1175  \n",
       "1              4076              4810  \n",
       "2              2766              3386  \n",
       "3               196               159  \n",
       "4               358               332  \n",
       "5              1589              1574  \n",
       "6              7165              6501  \n",
       "7              4709              4211  \n",
       "8               132               150  \n",
       "9               640               694  "
      ]
     },
     "execution_count": 3,
     "metadata": {},
     "output_type": "execute_result"
    }
   ],
   "source": [
    "# Import app data from Git repository\n",
    "df = pd.read_excel('Spring 2018 - Product Case Data.xlsx')\n",
    "df.head(10)"
   ]
  },
  {
   "cell_type": "markdown",
   "metadata": {},
   "source": [
    "The data is oriented such that each row summerizes how many fall into all possible categories for current page design and the new proposed one given the date, pathway in which the user arrived, new user or not, if the user landed on the homepage externally or from another page on the site, if the user stayed on the website after landing or bounced to another one, and if a purchase was made."
   ]
  },
  {
   "cell_type": "code",
   "execution_count": 4,
   "metadata": {},
   "outputs": [
    {
     "name": "stdout",
     "output_type": "stream",
     "text": [
      "There are 1260 observations and 8 features in this dateset. \n",
      "\n",
      "There are 6 types of channels in this dateset. \n",
      "\n",
      "The experiment took place over 20 days in this dataset.\n"
     ]
    }
   ],
   "source": [
    "# Lets understand what the basics of the data are\n",
    "print('There are {} observations and {} features in this dateset. \\n'.format(df.shape[0], df.shape[1]))\n",
    "print('There are {} types of channels in this dateset. \\n'.format(len(df.Channel.unique())))\n",
    "print('The experiment took place over {} days in this dataset.'.format((df.Date.max() - df.Date.min()).days))"
   ]
  },
  {
   "cell_type": "markdown",
   "metadata": {},
   "source": [
    "## Question 1: Conversion Rate\n",
    "THe number of visitors who subsequently make a purchase over total number of visitors."
   ]
  },
  {
   "cell_type": "code",
   "execution_count": 5,
   "metadata": {},
   "outputs": [],
   "source": [
    "# Given the data structure (semi aggregated) it is easiest to separate by control/variant and purchase/not\n",
    "control_np = df.loc[df['Purchase'] == 0, 'Visitors_Control']\n",
    "control_p = df.loc[df['Purchase'] == 1, 'Visitors_Control']\n",
    "variant_np = df.loc[df['Purchase'] == 0, 'Visitors_Variant']\n",
    "variant_p = df.loc[df['Purchase'] == 1, 'Visitors_Variant']"
   ]
  },
  {
   "cell_type": "code",
   "execution_count": 6,
   "metadata": {},
   "outputs": [],
   "source": [
    "# calculate the conversion rate\n",
    "cr_control = control_p.sum() / (control_p.sum() + control_np.sum())\n",
    "cr_variant = variant_p.sum() / (variant_p.sum() + variant_np.sum())"
   ]
  },
  {
   "cell_type": "code",
   "execution_count": 7,
   "metadata": {},
   "outputs": [
    {
     "data": {
      "text/plain": [
       "0.05558219919855477"
      ]
     },
     "execution_count": 7,
     "metadata": {},
     "output_type": "execute_result"
    }
   ],
   "source": [
    "cr_control"
   ]
  },
  {
   "cell_type": "code",
   "execution_count": 8,
   "metadata": {},
   "outputs": [
    {
     "data": {
      "text/plain": [
       "0.05305114856166729"
      ]
     },
     "execution_count": 8,
     "metadata": {},
     "output_type": "execute_result"
    }
   ],
   "source": [
    "cr_variant"
   ]
  },
  {
   "cell_type": "code",
   "execution_count": 9,
   "metadata": {},
   "outputs": [
    {
     "data": {
      "text/plain": [
       "-0.04553707254090248"
      ]
     },
     "execution_count": 9,
     "metadata": {},
     "output_type": "execute_result"
    }
   ],
   "source": [
    "# calculate the relative difference\n",
    "(cr_variant - cr_control) / cr_control"
   ]
  },
  {
   "cell_type": "markdown",
   "metadata": {},
   "source": [
    "The variant design actually performs worse by 4.5%; this is not a good sign for it."
   ]
  },
  {
   "cell_type": "markdown",
   "metadata": {},
   "source": [
    "## Question 2: Bounce Rate\n",
    "Visitors that bounce from the home page over the total number of visitors that land on the home page"
   ]
  },
  {
   "cell_type": "code",
   "execution_count": 10,
   "metadata": {},
   "outputs": [],
   "source": [
    "# Apply similar technique to break up data like we did in cr\n",
    "control_nb = df.loc[(df['Bounce'] == 0) & (df['Land'] == 1), 'Visitors_Control']\n",
    "control_b = df.loc[(df['Bounce'] == 1) & (df['Land'] == 1), 'Visitors_Control']\n",
    "variant_nb = df.loc[(df['Bounce'] == 0) & (df['Land'] == 1), 'Visitors_Variant']\n",
    "variant_b = df.loc[(df['Bounce'] == 1) & (df['Land'] == 1), 'Visitors_Variant']"
   ]
  },
  {
   "cell_type": "code",
   "execution_count": 11,
   "metadata": {},
   "outputs": [],
   "source": [
    "# calculate bounce rate\n",
    "br_control = control_b.sum() / (control_b.sum() + control_nb.sum())\n",
    "br_variant = variant_b.sum() / (variant_b.sum() + variant_nb.sum())"
   ]
  },
  {
   "cell_type": "code",
   "execution_count": 12,
   "metadata": {},
   "outputs": [
    {
     "data": {
      "text/plain": [
       "0.39664129172226437"
      ]
     },
     "execution_count": 12,
     "metadata": {},
     "output_type": "execute_result"
    }
   ],
   "source": [
    "br_control"
   ]
  },
  {
   "cell_type": "code",
   "execution_count": 13,
   "metadata": {},
   "outputs": [
    {
     "data": {
      "text/plain": [
       "0.4126550214487735"
      ]
     },
     "execution_count": 13,
     "metadata": {},
     "output_type": "execute_result"
    }
   ],
   "source": [
    "br_variant"
   ]
  },
  {
   "cell_type": "code",
   "execution_count": 14,
   "metadata": {},
   "outputs": [
    {
     "data": {
      "text/plain": [
       "0.04037332990969135"
      ]
     },
     "execution_count": 14,
     "metadata": {},
     "output_type": "execute_result"
    }
   ],
   "source": [
    "# calculate relative difference\n",
    "(br_variant - br_control) / br_control"
   ]
  },
  {
   "cell_type": "markdown",
   "metadata": {},
   "source": [
    "Yikes, the variant design also bounces more people off the website."
   ]
  },
  {
   "cell_type": "markdown",
   "metadata": {},
   "source": [
    "## Question 3: Time Trends\n",
    "Previously we aggregated the conversion and bounce rates overall the entire run of the AB test, lets examine if there are time variations."
   ]
  },
  {
   "cell_type": "code",
   "execution_count": 15,
   "metadata": {},
   "outputs": [
    {
     "data": {
      "text/html": [
       "<div>\n",
       "<style scoped>\n",
       "    .dataframe tbody tr th:only-of-type {\n",
       "        vertical-align: middle;\n",
       "    }\n",
       "\n",
       "    .dataframe tbody tr th {\n",
       "        vertical-align: top;\n",
       "    }\n",
       "\n",
       "    .dataframe thead th {\n",
       "        text-align: right;\n",
       "    }\n",
       "</style>\n",
       "<table border=\"1\" class=\"dataframe\">\n",
       "  <thead>\n",
       "    <tr style=\"text-align: right;\">\n",
       "      <th></th>\n",
       "      <th></th>\n",
       "      <th>Bounce</th>\n",
       "      <th>Land</th>\n",
       "      <th>Purchase</th>\n",
       "      <th>Visitors_Control</th>\n",
       "      <th>Visitors_Variant</th>\n",
       "    </tr>\n",
       "    <tr>\n",
       "      <th>Date</th>\n",
       "      <th>Purchase</th>\n",
       "      <th></th>\n",
       "      <th></th>\n",
       "      <th></th>\n",
       "      <th></th>\n",
       "      <th></th>\n",
       "    </tr>\n",
       "  </thead>\n",
       "  <tbody>\n",
       "    <tr>\n",
       "      <th rowspan=\"2\" valign=\"top\">2014-10-10</th>\n",
       "      <th>0</th>\n",
       "      <td>1.0</td>\n",
       "      <td>0.666667</td>\n",
       "      <td>NaN</td>\n",
       "      <td>0.939447</td>\n",
       "      <td>0.941272</td>\n",
       "    </tr>\n",
       "    <tr>\n",
       "      <th>1</th>\n",
       "      <td>0.0</td>\n",
       "      <td>0.333333</td>\n",
       "      <td>NaN</td>\n",
       "      <td>0.060553</td>\n",
       "      <td>0.058728</td>\n",
       "    </tr>\n",
       "    <tr>\n",
       "      <th rowspan=\"2\" valign=\"top\">2014-10-11</th>\n",
       "      <th>0</th>\n",
       "      <td>1.0</td>\n",
       "      <td>0.666667</td>\n",
       "      <td>NaN</td>\n",
       "      <td>0.957768</td>\n",
       "      <td>0.960419</td>\n",
       "    </tr>\n",
       "    <tr>\n",
       "      <th>1</th>\n",
       "      <td>0.0</td>\n",
       "      <td>0.333333</td>\n",
       "      <td>NaN</td>\n",
       "      <td>0.042232</td>\n",
       "      <td>0.039581</td>\n",
       "    </tr>\n",
       "    <tr>\n",
       "      <th>2014-10-12</th>\n",
       "      <th>0</th>\n",
       "      <td>1.0</td>\n",
       "      <td>0.666667</td>\n",
       "      <td>NaN</td>\n",
       "      <td>0.942879</td>\n",
       "      <td>0.945554</td>\n",
       "    </tr>\n",
       "  </tbody>\n",
       "</table>\n",
       "</div>"
      ],
      "text/plain": [
       "                     Bounce      Land  Purchase  Visitors_Control  \\\n",
       "Date       Purchase                                                 \n",
       "2014-10-10 0            1.0  0.666667       NaN          0.939447   \n",
       "           1            0.0  0.333333       NaN          0.060553   \n",
       "2014-10-11 0            1.0  0.666667       NaN          0.957768   \n",
       "           1            0.0  0.333333       NaN          0.042232   \n",
       "2014-10-12 0            1.0  0.666667       NaN          0.942879   \n",
       "\n",
       "                     Visitors_Variant  \n",
       "Date       Purchase                    \n",
       "2014-10-10 0                 0.941272  \n",
       "           1                 0.058728  \n",
       "2014-10-11 0                 0.960419  \n",
       "           1                 0.039581  \n",
       "2014-10-12 0                 0.945554  "
      ]
     },
     "execution_count": 15,
     "metadata": {},
     "output_type": "execute_result"
    }
   ],
   "source": [
    "# aggregate number of purchasers for each day over the total number of customers\n",
    "X = df.groupby(['Date','Purchase']).sum() / df.groupby(['Date']).sum()\n",
    "X.head()"
   ]
  },
  {
   "cell_type": "code",
   "execution_count": 16,
   "metadata": {},
   "outputs": [
    {
     "name": "stdout",
     "output_type": "stream",
     "text": [
      "0.05561332888542959\n",
      "0.05310579855754887\n"
     ]
    }
   ],
   "source": [
    "# verify the average of averages above is close to the overall conversion rate from Question 1 for each version\n",
    "print(X.loc[X.index.get_level_values('Purchase') == 1, 'Visitors_Control'].mean())\n",
    "print(X.loc[X.index.get_level_values('Purchase') == 1, 'Visitors_Variant'].mean())"
   ]
  },
  {
   "cell_type": "code",
   "execution_count": 20,
   "metadata": {},
   "outputs": [
    {
     "data": {
      "image/png": "[encoded data removed]",
      "text/plain": [
       "<Figure size 432x288 with 1 Axes>"
      ]
     },
     "metadata": {
      "needs_background": "light"
     },
     "output_type": "display_data"
    }
   ],
   "source": [
    "# plot conversion rate over days\n",
    "plt.plot(df.Date.unique(), X.loc[X.index.get_level_values('Purchase') == 1, 'Visitors_Control'].values, color='blue', label='Control')\n",
    "plt.plot(df.Date.unique(), X.loc[X.index.get_level_values('Purchase') == 1, 'Visitors_Variant'].values, color='red', label='Variant')\n",
    "\n",
    "plt.legend()\n",
    "\n",
    "plt.xlabel('Date')\n",
    "plt.ylabel('Conversion Rate')\n",
    "\n",
    "plt.show()"
   ]
  },
  {
   "cell_type": "code",
   "execution_count": 21,
   "metadata": {},
   "outputs": [
    {
     "name": "stdout",
     "output_type": "stream",
     "text": [
      "0.09732224946368373\n",
      "0.09764148227753364\n"
     ]
    }
   ],
   "source": [
    "# the maximum conversion rate for each design\n",
    "print(X.loc[X.index.get_level_values('Purchase') == 1, 'Visitors_Control'].values.max())\n",
    "print(X.loc[X.index.get_level_values('Purchase') == 1, 'Visitors_Variant'].values.max())"
   ]
  },
  {
   "cell_type": "markdown",
   "metadata": {},
   "source": [
    "The conversion rate clearly has dynamic properties overtime with a clear spike. However both app versions seem to follow similar trajectories. During the peak they have no visual differences, otherwise the control has a higher conversion rate than the variant, which is consistent with what we previously noted."
   ]
  },
  {
   "cell_type": "code",
   "execution_count": 22,
   "metadata": {},
   "outputs": [
    {
     "data": {
      "text/html": [
       "<div>\n",
       "<style scoped>\n",
       "    .dataframe tbody tr th:only-of-type {\n",
       "        vertical-align: middle;\n",
       "    }\n",
       "\n",
       "    .dataframe tbody tr th {\n",
       "        vertical-align: top;\n",
       "    }\n",
       "\n",
       "    .dataframe thead th {\n",
       "        text-align: right;\n",
       "    }\n",
       "</style>\n",
       "<table border=\"1\" class=\"dataframe\">\n",
       "  <thead>\n",
       "    <tr style=\"text-align: right;\">\n",
       "      <th></th>\n",
       "      <th></th>\n",
       "      <th>Bounce</th>\n",
       "      <th>Land</th>\n",
       "      <th>Purchase</th>\n",
       "      <th>Visitors_Control</th>\n",
       "      <th>Visitors_Variant</th>\n",
       "    </tr>\n",
       "    <tr>\n",
       "      <th>Date</th>\n",
       "      <th>Bounce</th>\n",
       "      <th></th>\n",
       "      <th></th>\n",
       "      <th></th>\n",
       "      <th></th>\n",
       "      <th></th>\n",
       "    </tr>\n",
       "  </thead>\n",
       "  <tbody>\n",
       "    <tr>\n",
       "      <th rowspan=\"2\" valign=\"top\">2014-10-10</th>\n",
       "      <th>0</th>\n",
       "      <td>NaN</td>\n",
       "      <td>0.666667</td>\n",
       "      <td>1.0</td>\n",
       "      <td>0.627465</td>\n",
       "      <td>0.613930</td>\n",
       "    </tr>\n",
       "    <tr>\n",
       "      <th>1</th>\n",
       "      <td>NaN</td>\n",
       "      <td>0.333333</td>\n",
       "      <td>0.0</td>\n",
       "      <td>0.372535</td>\n",
       "      <td>0.386070</td>\n",
       "    </tr>\n",
       "    <tr>\n",
       "      <th rowspan=\"2\" valign=\"top\">2014-10-11</th>\n",
       "      <th>0</th>\n",
       "      <td>NaN</td>\n",
       "      <td>0.666667</td>\n",
       "      <td>1.0</td>\n",
       "      <td>0.538392</td>\n",
       "      <td>0.517962</td>\n",
       "    </tr>\n",
       "    <tr>\n",
       "      <th>1</th>\n",
       "      <td>NaN</td>\n",
       "      <td>0.333333</td>\n",
       "      <td>0.0</td>\n",
       "      <td>0.461608</td>\n",
       "      <td>0.482038</td>\n",
       "    </tr>\n",
       "    <tr>\n",
       "      <th>2014-10-12</th>\n",
       "      <th>0</th>\n",
       "      <td>NaN</td>\n",
       "      <td>0.666667</td>\n",
       "      <td>1.0</td>\n",
       "      <td>0.607012</td>\n",
       "      <td>0.587030</td>\n",
       "    </tr>\n",
       "  </tbody>\n",
       "</table>\n",
       "</div>"
      ],
      "text/plain": [
       "                   Bounce      Land  Purchase  Visitors_Control  \\\n",
       "Date       Bounce                                                 \n",
       "2014-10-10 0          NaN  0.666667       1.0          0.627465   \n",
       "           1          NaN  0.333333       0.0          0.372535   \n",
       "2014-10-11 0          NaN  0.666667       1.0          0.538392   \n",
       "           1          NaN  0.333333       0.0          0.461608   \n",
       "2014-10-12 0          NaN  0.666667       1.0          0.607012   \n",
       "\n",
       "                   Visitors_Variant  \n",
       "Date       Bounce                    \n",
       "2014-10-10 0               0.613930  \n",
       "           1               0.386070  \n",
       "2014-10-11 0               0.517962  \n",
       "           1               0.482038  \n",
       "2014-10-12 0               0.587030  "
      ]
     },
     "execution_count": 22,
     "metadata": {},
     "output_type": "execute_result"
    }
   ],
   "source": [
    "# aggregate number of bounces for each day over the total number of customers \n",
    "Y = df.loc[df['Land'] == 1, :].groupby(['Date','Bounce']).sum() / df.loc[df['Land'] == 1, :].groupby(['Date']).sum()\n",
    "Y.head()"
   ]
  },
  {
   "cell_type": "code",
   "execution_count": 21,
   "metadata": {},
   "outputs": [
    {
     "name": "stdout",
     "output_type": "stream",
     "text": [
      "0.3960114315717605\n",
      "0.41187039270635023\n"
     ]
    }
   ],
   "source": [
    "# verify the average of averages above is close to the overall conversion rate from Question 2 for each version\n",
    "print(Y.loc[Y.index.get_level_values('Bounce') == 1, 'Visitors_Control'].mean())\n",
    "print(Y.loc[Y.index.get_level_values('Bounce') == 1, 'Visitors_Variant'].mean())"
   ]
  },
  {
   "cell_type": "code",
   "execution_count": 23,
   "metadata": {},
   "outputs": [
    {
     "data": {
      "image/png": "[encoded data removed]",
      "text/plain": [
       "<Figure size 432x288 with 1 Axes>"
      ]
     },
     "metadata": {
      "needs_background": "light"
     },
     "output_type": "display_data"
    }
   ],
   "source": [
    "# plot bounce rate over days\n",
    "plt.plot(df.Date.unique(), Y.loc[Y.index.get_level_values('Bounce') == 1, 'Visitors_Control'].values, color='blue', label='Control')\n",
    "plt.plot(df.Date.unique(), Y.loc[Y.index.get_level_values('Bounce') == 1, 'Visitors_Variant'].values, color='red', label='Variant')\n",
    "\n",
    "plt.legend()\n",
    "\n",
    "plt.xlabel('Date')\n",
    "plt.ylabel('Bounce Rate')\n",
    "\n",
    "plt.show()"
   ]
  },
  {
   "cell_type": "code",
   "execution_count": 36,
   "metadata": {},
   "outputs": [
    {
     "name": "stdout",
     "output_type": "stream",
     "text": [
      "0.2885060561255731\n",
      "0.2926008128008638\n"
     ]
    }
   ],
   "source": [
    "# the minimum bounce rate for each design\n",
    "print(Y.loc[Y.index.get_level_values('Bounce') == 1, 'Visitors_Control'].values.min())\n",
    "print(Y.loc[Y.index.get_level_values('Bounce') == 1, 'Visitors_Variant'].values.min())"
   ]
  },
  {
   "cell_type": "markdown",
   "metadata": {},
   "source": [
    "A similar story to the conversion rate plot. There is a dynamic process over time with the minimum bounce rate lining up with the maximum conversion rate. At the minimum the two app designs line up but overall the control has a lower bounce rate than the variant."
   ]
  },
  {
   "cell_type": "markdown",
   "metadata": {},
   "source": [
    "## Question 4: Supplementary Analysis\n",
    "Is there a group or property that performs better on the variant than the control?"
   ]
  },
  {
   "cell_type": "code",
   "execution_count": 26,
   "metadata": {},
   "outputs": [
    {
     "data": {
      "text/html": [
       "<div>\n",
       "<style scoped>\n",
       "    .dataframe tbody tr th:only-of-type {\n",
       "        vertical-align: middle;\n",
       "    }\n",
       "\n",
       "    .dataframe tbody tr th {\n",
       "        vertical-align: top;\n",
       "    }\n",
       "\n",
       "    .dataframe thead th {\n",
       "        text-align: right;\n",
       "    }\n",
       "</style>\n",
       "<table border=\"1\" class=\"dataframe\">\n",
       "  <thead>\n",
       "    <tr style=\"text-align: right;\">\n",
       "      <th></th>\n",
       "      <th>Date</th>\n",
       "      <th>Channel</th>\n",
       "      <th>User Type</th>\n",
       "      <th>Land</th>\n",
       "      <th>Bounce</th>\n",
       "      <th>Purchase</th>\n",
       "      <th>Visitors_Control</th>\n",
       "      <th>Visitors_Variant</th>\n",
       "    </tr>\n",
       "  </thead>\n",
       "  <tbody>\n",
       "    <tr>\n",
       "      <th>0</th>\n",
       "      <td>2014-10-10</td>\n",
       "      <td>Affiliate</td>\n",
       "      <td>Returning User</td>\n",
       "      <td>0</td>\n",
       "      <td>0</td>\n",
       "      <td>0</td>\n",
       "      <td>1211</td>\n",
       "      <td>1175</td>\n",
       "    </tr>\n",
       "    <tr>\n",
       "      <th>1</th>\n",
       "      <td>2014-10-10</td>\n",
       "      <td>Affiliate</td>\n",
       "      <td>Returning User</td>\n",
       "      <td>1</td>\n",
       "      <td>0</td>\n",
       "      <td>0</td>\n",
       "      <td>4076</td>\n",
       "      <td>4810</td>\n",
       "    </tr>\n",
       "    <tr>\n",
       "      <th>2</th>\n",
       "      <td>2014-10-10</td>\n",
       "      <td>Affiliate</td>\n",
       "      <td>Returning User</td>\n",
       "      <td>1</td>\n",
       "      <td>1</td>\n",
       "      <td>0</td>\n",
       "      <td>2766</td>\n",
       "      <td>3386</td>\n",
       "    </tr>\n",
       "    <tr>\n",
       "      <th>3</th>\n",
       "      <td>2014-10-10</td>\n",
       "      <td>Affiliate</td>\n",
       "      <td>Returning User</td>\n",
       "      <td>0</td>\n",
       "      <td>0</td>\n",
       "      <td>1</td>\n",
       "      <td>196</td>\n",
       "      <td>159</td>\n",
       "    </tr>\n",
       "    <tr>\n",
       "      <th>4</th>\n",
       "      <td>2014-10-10</td>\n",
       "      <td>Affiliate</td>\n",
       "      <td>Returning User</td>\n",
       "      <td>1</td>\n",
       "      <td>0</td>\n",
       "      <td>1</td>\n",
       "      <td>358</td>\n",
       "      <td>332</td>\n",
       "    </tr>\n",
       "  </tbody>\n",
       "</table>\n",
       "</div>"
      ],
      "text/plain": [
       "        Date    Channel       User Type  Land  Bounce  Purchase  \\\n",
       "0 2014-10-10  Affiliate  Returning User     0       0         0   \n",
       "1 2014-10-10  Affiliate  Returning User     1       0         0   \n",
       "2 2014-10-10  Affiliate  Returning User     1       1         0   \n",
       "3 2014-10-10  Affiliate  Returning User     0       0         1   \n",
       "4 2014-10-10  Affiliate  Returning User     1       0         1   \n",
       "\n",
       "   Visitors_Control  Visitors_Variant  \n",
       "0              1211              1175  \n",
       "1              4076              4810  \n",
       "2              2766              3386  \n",
       "3               196               159  \n",
       "4               358               332  "
      ]
     },
     "execution_count": 26,
     "metadata": {},
     "output_type": "execute_result"
    }
   ],
   "source": [
    "df.head()"
   ]
  },
  {
   "cell_type": "code",
   "execution_count": 27,
   "metadata": {},
   "outputs": [
    {
     "data": {
      "text/html": [
       "<div>\n",
       "<style scoped>\n",
       "    .dataframe tbody tr th:only-of-type {\n",
       "        vertical-align: middle;\n",
       "    }\n",
       "\n",
       "    .dataframe tbody tr th {\n",
       "        vertical-align: top;\n",
       "    }\n",
       "\n",
       "    .dataframe thead th {\n",
       "        text-align: right;\n",
       "    }\n",
       "</style>\n",
       "<table border=\"1\" class=\"dataframe\">\n",
       "  <thead>\n",
       "    <tr style=\"text-align: right;\">\n",
       "      <th></th>\n",
       "      <th></th>\n",
       "      <th>Bounce</th>\n",
       "      <th>Land</th>\n",
       "      <th>Purchase</th>\n",
       "      <th>Visitors_Control</th>\n",
       "      <th>Visitors_Variant</th>\n",
       "      <th>difference</th>\n",
       "    </tr>\n",
       "    <tr>\n",
       "      <th>Channel</th>\n",
       "      <th>Purchase</th>\n",
       "      <th></th>\n",
       "      <th></th>\n",
       "      <th></th>\n",
       "      <th></th>\n",
       "      <th></th>\n",
       "      <th></th>\n",
       "    </tr>\n",
       "  </thead>\n",
       "  <tbody>\n",
       "    <tr>\n",
       "      <th rowspan=\"2\" valign=\"top\">Affiliate</th>\n",
       "      <th>0</th>\n",
       "      <td>1.0</td>\n",
       "      <td>0.666667</td>\n",
       "      <td>NaN</td>\n",
       "      <td>0.944546</td>\n",
       "      <td>0.945072</td>\n",
       "      <td>0.000557</td>\n",
       "    </tr>\n",
       "    <tr>\n",
       "      <th>1</th>\n",
       "      <td>0.0</td>\n",
       "      <td>0.333333</td>\n",
       "      <td>NaN</td>\n",
       "      <td>0.055454</td>\n",
       "      <td>0.054928</td>\n",
       "      <td>-0.009495</td>\n",
       "    </tr>\n",
       "    <tr>\n",
       "      <th rowspan=\"2\" valign=\"top\">Direct</th>\n",
       "      <th>0</th>\n",
       "      <td>1.0</td>\n",
       "      <td>0.666667</td>\n",
       "      <td>NaN</td>\n",
       "      <td>0.944917</td>\n",
       "      <td>0.948329</td>\n",
       "      <td>0.003611</td>\n",
       "    </tr>\n",
       "    <tr>\n",
       "      <th>1</th>\n",
       "      <td>0.0</td>\n",
       "      <td>0.333333</td>\n",
       "      <td>NaN</td>\n",
       "      <td>0.055083</td>\n",
       "      <td>0.051671</td>\n",
       "      <td>-0.061951</td>\n",
       "    </tr>\n",
       "    <tr>\n",
       "      <th rowspan=\"2\" valign=\"top\">Email</th>\n",
       "      <th>0</th>\n",
       "      <td>1.0</td>\n",
       "      <td>0.666667</td>\n",
       "      <td>NaN</td>\n",
       "      <td>0.941110</td>\n",
       "      <td>0.944655</td>\n",
       "      <td>0.003767</td>\n",
       "    </tr>\n",
       "    <tr>\n",
       "      <th>1</th>\n",
       "      <td>0.0</td>\n",
       "      <td>0.333333</td>\n",
       "      <td>NaN</td>\n",
       "      <td>0.058890</td>\n",
       "      <td>0.055345</td>\n",
       "      <td>-0.060202</td>\n",
       "    </tr>\n",
       "    <tr>\n",
       "      <th rowspan=\"2\" valign=\"top\">Paid Search</th>\n",
       "      <th>0</th>\n",
       "      <td>1.0</td>\n",
       "      <td>0.666667</td>\n",
       "      <td>NaN</td>\n",
       "      <td>0.942974</td>\n",
       "      <td>0.945647</td>\n",
       "      <td>0.002835</td>\n",
       "    </tr>\n",
       "    <tr>\n",
       "      <th>1</th>\n",
       "      <td>0.0</td>\n",
       "      <td>0.333333</td>\n",
       "      <td>NaN</td>\n",
       "      <td>0.057026</td>\n",
       "      <td>0.054353</td>\n",
       "      <td>-0.046875</td>\n",
       "    </tr>\n",
       "    <tr>\n",
       "      <th rowspan=\"2\" valign=\"top\">SEO</th>\n",
       "      <th>0</th>\n",
       "      <td>1.0</td>\n",
       "      <td>0.666667</td>\n",
       "      <td>NaN</td>\n",
       "      <td>0.946632</td>\n",
       "      <td>0.949374</td>\n",
       "      <td>0.002897</td>\n",
       "    </tr>\n",
       "    <tr>\n",
       "      <th>1</th>\n",
       "      <td>0.0</td>\n",
       "      <td>0.333333</td>\n",
       "      <td>NaN</td>\n",
       "      <td>0.053368</td>\n",
       "      <td>0.050626</td>\n",
       "      <td>-0.051379</td>\n",
       "    </tr>\n",
       "    <tr>\n",
       "      <th rowspan=\"2\" valign=\"top\">Social Media</th>\n",
       "      <th>0</th>\n",
       "      <td>1.0</td>\n",
       "      <td>0.666667</td>\n",
       "      <td>NaN</td>\n",
       "      <td>0.937189</td>\n",
       "      <td>0.936858</td>\n",
       "      <td>-0.000353</td>\n",
       "    </tr>\n",
       "    <tr>\n",
       "      <th>1</th>\n",
       "      <td>0.0</td>\n",
       "      <td>0.333333</td>\n",
       "      <td>NaN</td>\n",
       "      <td>0.062811</td>\n",
       "      <td>0.063142</td>\n",
       "      <td>0.005270</td>\n",
       "    </tr>\n",
       "  </tbody>\n",
       "</table>\n",
       "</div>"
      ],
      "text/plain": [
       "                       Bounce      Land  Purchase  Visitors_Control  \\\n",
       "Channel      Purchase                                                 \n",
       "Affiliate    0            1.0  0.666667       NaN          0.944546   \n",
       "             1            0.0  0.333333       NaN          0.055454   \n",
       "Direct       0            1.0  0.666667       NaN          0.944917   \n",
       "             1            0.0  0.333333       NaN          0.055083   \n",
       "Email        0            1.0  0.666667       NaN          0.941110   \n",
       "             1            0.0  0.333333       NaN          0.058890   \n",
       "Paid Search  0            1.0  0.666667       NaN          0.942974   \n",
       "             1            0.0  0.333333       NaN          0.057026   \n",
       "SEO          0            1.0  0.666667       NaN          0.946632   \n",
       "             1            0.0  0.333333       NaN          0.053368   \n",
       "Social Media 0            1.0  0.666667       NaN          0.937189   \n",
       "             1            0.0  0.333333       NaN          0.062811   \n",
       "\n",
       "                       Visitors_Variant  difference  \n",
       "Channel      Purchase                                \n",
       "Affiliate    0                 0.945072    0.000557  \n",
       "             1                 0.054928   -0.009495  \n",
       "Direct       0                 0.948329    0.003611  \n",
       "             1                 0.051671   -0.061951  \n",
       "Email        0                 0.944655    0.003767  \n",
       "             1                 0.055345   -0.060202  \n",
       "Paid Search  0                 0.945647    0.002835  \n",
       "             1                 0.054353   -0.046875  \n",
       "SEO          0                 0.949374    0.002897  \n",
       "             1                 0.050626   -0.051379  \n",
       "Social Media 0                 0.936858   -0.000353  \n",
       "             1                 0.063142    0.005270  "
      ]
     },
     "execution_count": 27,
     "metadata": {},
     "output_type": "execute_result"
    }
   ],
   "source": [
    "# examine conversion rate between different channels that brought users to the platform\n",
    "Z = df.groupby(['Channel','Purchase']).sum() / df.groupby(['Channel']).sum()\n",
    "Z['difference'] = (Z['Visitors_Variant'] - Z['Visitors_Control']) / Z['Visitors_Control']\n",
    "Z"
   ]
  },
  {
   "cell_type": "markdown",
   "metadata": {},
   "source": [
    "Except for social media, all channels have a lower conversion rate than the control. Social media did have a slightly higher conversion rate with the variant design though this was less than a 1% increase in purchasers."
   ]
  },
  {
   "cell_type": "code",
   "execution_count": 28,
   "metadata": {},
   "outputs": [
    {
     "data": {
      "text/html": [
       "<div>\n",
       "<style scoped>\n",
       "    .dataframe tbody tr th:only-of-type {\n",
       "        vertical-align: middle;\n",
       "    }\n",
       "\n",
       "    .dataframe tbody tr th {\n",
       "        vertical-align: top;\n",
       "    }\n",
       "\n",
       "    .dataframe thead th {\n",
       "        text-align: right;\n",
       "    }\n",
       "</style>\n",
       "<table border=\"1\" class=\"dataframe\">\n",
       "  <thead>\n",
       "    <tr style=\"text-align: right;\">\n",
       "      <th></th>\n",
       "      <th></th>\n",
       "      <th>Bounce</th>\n",
       "      <th>Land</th>\n",
       "      <th>Purchase</th>\n",
       "      <th>Visitors_Control</th>\n",
       "      <th>Visitors_Variant</th>\n",
       "      <th>difference</th>\n",
       "    </tr>\n",
       "    <tr>\n",
       "      <th>Channel</th>\n",
       "      <th>Bounce</th>\n",
       "      <th></th>\n",
       "      <th></th>\n",
       "      <th></th>\n",
       "      <th></th>\n",
       "      <th></th>\n",
       "      <th></th>\n",
       "    </tr>\n",
       "  </thead>\n",
       "  <tbody>\n",
       "    <tr>\n",
       "      <th rowspan=\"2\" valign=\"top\">Affiliate</th>\n",
       "      <th>0</th>\n",
       "      <td>NaN</td>\n",
       "      <td>0.666667</td>\n",
       "      <td>1.0</td>\n",
       "      <td>0.599524</td>\n",
       "      <td>0.590358</td>\n",
       "      <td>-0.015288</td>\n",
       "    </tr>\n",
       "    <tr>\n",
       "      <th>1</th>\n",
       "      <td>NaN</td>\n",
       "      <td>0.333333</td>\n",
       "      <td>0.0</td>\n",
       "      <td>0.400476</td>\n",
       "      <td>0.409642</td>\n",
       "      <td>0.022887</td>\n",
       "    </tr>\n",
       "    <tr>\n",
       "      <th rowspan=\"2\" valign=\"top\">Direct</th>\n",
       "      <th>0</th>\n",
       "      <td>NaN</td>\n",
       "      <td>0.666667</td>\n",
       "      <td>1.0</td>\n",
       "      <td>0.607853</td>\n",
       "      <td>0.586716</td>\n",
       "      <td>-0.034773</td>\n",
       "    </tr>\n",
       "    <tr>\n",
       "      <th>1</th>\n",
       "      <td>NaN</td>\n",
       "      <td>0.333333</td>\n",
       "      <td>0.0</td>\n",
       "      <td>0.392147</td>\n",
       "      <td>0.413284</td>\n",
       "      <td>0.053901</td>\n",
       "    </tr>\n",
       "    <tr>\n",
       "      <th rowspan=\"2\" valign=\"top\">Email</th>\n",
       "      <th>0</th>\n",
       "      <td>NaN</td>\n",
       "      <td>0.666667</td>\n",
       "      <td>1.0</td>\n",
       "      <td>0.609353</td>\n",
       "      <td>0.593680</td>\n",
       "      <td>-0.025720</td>\n",
       "    </tr>\n",
       "    <tr>\n",
       "      <th>1</th>\n",
       "      <td>NaN</td>\n",
       "      <td>0.333333</td>\n",
       "      <td>0.0</td>\n",
       "      <td>0.390647</td>\n",
       "      <td>0.406320</td>\n",
       "      <td>0.040119</td>\n",
       "    </tr>\n",
       "    <tr>\n",
       "      <th rowspan=\"2\" valign=\"top\">Paid Search</th>\n",
       "      <th>0</th>\n",
       "      <td>NaN</td>\n",
       "      <td>0.666667</td>\n",
       "      <td>1.0</td>\n",
       "      <td>0.591058</td>\n",
       "      <td>0.575567</td>\n",
       "      <td>-0.026210</td>\n",
       "    </tr>\n",
       "    <tr>\n",
       "      <th>1</th>\n",
       "      <td>NaN</td>\n",
       "      <td>0.333333</td>\n",
       "      <td>0.0</td>\n",
       "      <td>0.408942</td>\n",
       "      <td>0.424433</td>\n",
       "      <td>0.037883</td>\n",
       "    </tr>\n",
       "    <tr>\n",
       "      <th rowspan=\"2\" valign=\"top\">SEO</th>\n",
       "      <th>0</th>\n",
       "      <td>NaN</td>\n",
       "      <td>0.666667</td>\n",
       "      <td>1.0</td>\n",
       "      <td>0.603580</td>\n",
       "      <td>0.588834</td>\n",
       "      <td>-0.024432</td>\n",
       "    </tr>\n",
       "    <tr>\n",
       "      <th>1</th>\n",
       "      <td>NaN</td>\n",
       "      <td>0.333333</td>\n",
       "      <td>0.0</td>\n",
       "      <td>0.396420</td>\n",
       "      <td>0.411166</td>\n",
       "      <td>0.037199</td>\n",
       "    </tr>\n",
       "    <tr>\n",
       "      <th rowspan=\"2\" valign=\"top\">Social Media</th>\n",
       "      <th>0</th>\n",
       "      <td>NaN</td>\n",
       "      <td>0.666667</td>\n",
       "      <td>1.0</td>\n",
       "      <td>0.598011</td>\n",
       "      <td>0.590449</td>\n",
       "      <td>-0.012645</td>\n",
       "    </tr>\n",
       "    <tr>\n",
       "      <th>1</th>\n",
       "      <td>NaN</td>\n",
       "      <td>0.333333</td>\n",
       "      <td>0.0</td>\n",
       "      <td>0.401989</td>\n",
       "      <td>0.409551</td>\n",
       "      <td>0.018812</td>\n",
       "    </tr>\n",
       "  </tbody>\n",
       "</table>\n",
       "</div>"
      ],
      "text/plain": [
       "                     Bounce      Land  Purchase  Visitors_Control  \\\n",
       "Channel      Bounce                                                 \n",
       "Affiliate    0          NaN  0.666667       1.0          0.599524   \n",
       "             1          NaN  0.333333       0.0          0.400476   \n",
       "Direct       0          NaN  0.666667       1.0          0.607853   \n",
       "             1          NaN  0.333333       0.0          0.392147   \n",
       "Email        0          NaN  0.666667       1.0          0.609353   \n",
       "             1          NaN  0.333333       0.0          0.390647   \n",
       "Paid Search  0          NaN  0.666667       1.0          0.591058   \n",
       "             1          NaN  0.333333       0.0          0.408942   \n",
       "SEO          0          NaN  0.666667       1.0          0.603580   \n",
       "             1          NaN  0.333333       0.0          0.396420   \n",
       "Social Media 0          NaN  0.666667       1.0          0.598011   \n",
       "             1          NaN  0.333333       0.0          0.401989   \n",
       "\n",
       "                     Visitors_Variant  difference  \n",
       "Channel      Bounce                                \n",
       "Affiliate    0               0.590358   -0.015288  \n",
       "             1               0.409642    0.022887  \n",
       "Direct       0               0.586716   -0.034773  \n",
       "             1               0.413284    0.053901  \n",
       "Email        0               0.593680   -0.025720  \n",
       "             1               0.406320    0.040119  \n",
       "Paid Search  0               0.575567   -0.026210  \n",
       "             1               0.424433    0.037883  \n",
       "SEO          0               0.588834   -0.024432  \n",
       "             1               0.411166    0.037199  \n",
       "Social Media 0               0.590449   -0.012645  \n",
       "             1               0.409551    0.018812  "
      ]
     },
     "execution_count": 28,
     "metadata": {},
     "output_type": "execute_result"
    }
   ],
   "source": [
    "# examine bounce rate between different channels that brought users to the platform\n",
    "Z = df.loc[df['Land'] == 1, :].groupby(['Channel','Bounce']).sum() / df.loc[df['Land'] == 1, :].groupby(['Channel']).sum()\n",
    "Z['difference'] = (Z['Visitors_Variant'] - Z['Visitors_Control']) / Z['Visitors_Control']\n",
    "Z"
   ]
  },
  {
   "cell_type": "markdown",
   "metadata": {},
   "source": [
    "Every channel had a higher bounce rate with the variant design than the control."
   ]
  },
  {
   "cell_type": "code",
   "execution_count": 29,
   "metadata": {},
   "outputs": [
    {
     "data": {
      "text/html": [
       "<div>\n",
       "<style scoped>\n",
       "    .dataframe tbody tr th:only-of-type {\n",
       "        vertical-align: middle;\n",
       "    }\n",
       "\n",
       "    .dataframe tbody tr th {\n",
       "        vertical-align: top;\n",
       "    }\n",
       "\n",
       "    .dataframe thead th {\n",
       "        text-align: right;\n",
       "    }\n",
       "</style>\n",
       "<table border=\"1\" class=\"dataframe\">\n",
       "  <thead>\n",
       "    <tr style=\"text-align: right;\">\n",
       "      <th></th>\n",
       "      <th></th>\n",
       "      <th>Bounce</th>\n",
       "      <th>Land</th>\n",
       "      <th>Purchase</th>\n",
       "      <th>Visitors_Control</th>\n",
       "      <th>Visitors_Variant</th>\n",
       "      <th>difference</th>\n",
       "    </tr>\n",
       "    <tr>\n",
       "      <th>User Type</th>\n",
       "      <th>Purchase</th>\n",
       "      <th></th>\n",
       "      <th></th>\n",
       "      <th></th>\n",
       "      <th></th>\n",
       "      <th></th>\n",
       "      <th></th>\n",
       "    </tr>\n",
       "  </thead>\n",
       "  <tbody>\n",
       "    <tr>\n",
       "      <th rowspan=\"2\" valign=\"top\">New User</th>\n",
       "      <th>0</th>\n",
       "      <td>1.0</td>\n",
       "      <td>0.666667</td>\n",
       "      <td>NaN</td>\n",
       "      <td>0.947153</td>\n",
       "      <td>0.948809</td>\n",
       "      <td>0.001748</td>\n",
       "    </tr>\n",
       "    <tr>\n",
       "      <th>1</th>\n",
       "      <td>0.0</td>\n",
       "      <td>0.333333</td>\n",
       "      <td>NaN</td>\n",
       "      <td>0.052847</td>\n",
       "      <td>0.051191</td>\n",
       "      <td>-0.031338</td>\n",
       "    </tr>\n",
       "    <tr>\n",
       "      <th rowspan=\"2\" valign=\"top\">Returning User</th>\n",
       "      <th>0</th>\n",
       "      <td>1.0</td>\n",
       "      <td>0.666667</td>\n",
       "      <td>NaN</td>\n",
       "      <td>0.940426</td>\n",
       "      <td>0.944162</td>\n",
       "      <td>0.003973</td>\n",
       "    </tr>\n",
       "    <tr>\n",
       "      <th>1</th>\n",
       "      <td>0.0</td>\n",
       "      <td>0.333333</td>\n",
       "      <td>NaN</td>\n",
       "      <td>0.059574</td>\n",
       "      <td>0.055838</td>\n",
       "      <td>-0.062720</td>\n",
       "    </tr>\n",
       "  </tbody>\n",
       "</table>\n",
       "</div>"
      ],
      "text/plain": [
       "                         Bounce      Land  Purchase  Visitors_Control  \\\n",
       "User Type      Purchase                                                 \n",
       "New User       0            1.0  0.666667       NaN          0.947153   \n",
       "               1            0.0  0.333333       NaN          0.052847   \n",
       "Returning User 0            1.0  0.666667       NaN          0.940426   \n",
       "               1            0.0  0.333333       NaN          0.059574   \n",
       "\n",
       "                         Visitors_Variant  difference  \n",
       "User Type      Purchase                                \n",
       "New User       0                 0.948809    0.001748  \n",
       "               1                 0.051191   -0.031338  \n",
       "Returning User 0                 0.944162    0.003973  \n",
       "               1                 0.055838   -0.062720  "
      ]
     },
     "execution_count": 29,
     "metadata": {},
     "output_type": "execute_result"
    }
   ],
   "source": [
    "# examine conversion rate between new and returning user \n",
    "Z = df.groupby(['User Type','Purchase']).sum() / df.groupby(['User Type']).sum()\n",
    "Z['difference'] = (Z['Visitors_Variant'] - Z['Visitors_Control']) / Z['Visitors_Control']\n",
    "Z"
   ]
  },
  {
   "cell_type": "markdown",
   "metadata": {},
   "source": [
    "The variant had a lower conversion rate for both types of users. The conversion rate for returning users is twice as worse than for new users, suggesting the variant really is a poor choice compared to the old one."
   ]
  },
  {
   "cell_type": "code",
   "execution_count": 30,
   "metadata": {},
   "outputs": [
    {
     "data": {
      "text/html": [
       "<div>\n",
       "<style scoped>\n",
       "    .dataframe tbody tr th:only-of-type {\n",
       "        vertical-align: middle;\n",
       "    }\n",
       "\n",
       "    .dataframe tbody tr th {\n",
       "        vertical-align: top;\n",
       "    }\n",
       "\n",
       "    .dataframe thead th {\n",
       "        text-align: right;\n",
       "    }\n",
       "</style>\n",
       "<table border=\"1\" class=\"dataframe\">\n",
       "  <thead>\n",
       "    <tr style=\"text-align: right;\">\n",
       "      <th></th>\n",
       "      <th></th>\n",
       "      <th>Bounce</th>\n",
       "      <th>Land</th>\n",
       "      <th>Purchase</th>\n",
       "      <th>Visitors_Control</th>\n",
       "      <th>Visitors_Variant</th>\n",
       "      <th>difference</th>\n",
       "    </tr>\n",
       "    <tr>\n",
       "      <th>User Type</th>\n",
       "      <th>Bounce</th>\n",
       "      <th></th>\n",
       "      <th></th>\n",
       "      <th></th>\n",
       "      <th></th>\n",
       "      <th></th>\n",
       "      <th></th>\n",
       "    </tr>\n",
       "  </thead>\n",
       "  <tbody>\n",
       "    <tr>\n",
       "      <th rowspan=\"2\" valign=\"top\">New User</th>\n",
       "      <th>0</th>\n",
       "      <td>NaN</td>\n",
       "      <td>0.666667</td>\n",
       "      <td>1.0</td>\n",
       "      <td>0.600923</td>\n",
       "      <td>0.585474</td>\n",
       "      <td>-0.025709</td>\n",
       "    </tr>\n",
       "    <tr>\n",
       "      <th>1</th>\n",
       "      <td>NaN</td>\n",
       "      <td>0.333333</td>\n",
       "      <td>0.0</td>\n",
       "      <td>0.399077</td>\n",
       "      <td>0.414526</td>\n",
       "      <td>0.038712</td>\n",
       "    </tr>\n",
       "    <tr>\n",
       "      <th rowspan=\"2\" valign=\"top\">Returning User</th>\n",
       "      <th>0</th>\n",
       "      <td>NaN</td>\n",
       "      <td>0.666667</td>\n",
       "      <td>1.0</td>\n",
       "      <td>0.606895</td>\n",
       "      <td>0.590153</td>\n",
       "      <td>-0.027586</td>\n",
       "    </tr>\n",
       "    <tr>\n",
       "      <th>1</th>\n",
       "      <td>NaN</td>\n",
       "      <td>0.333333</td>\n",
       "      <td>0.0</td>\n",
       "      <td>0.393105</td>\n",
       "      <td>0.409847</td>\n",
       "      <td>0.042589</td>\n",
       "    </tr>\n",
       "  </tbody>\n",
       "</table>\n",
       "</div>"
      ],
      "text/plain": [
       "                       Bounce      Land  Purchase  Visitors_Control  \\\n",
       "User Type      Bounce                                                 \n",
       "New User       0          NaN  0.666667       1.0          0.600923   \n",
       "               1          NaN  0.333333       0.0          0.399077   \n",
       "Returning User 0          NaN  0.666667       1.0          0.606895   \n",
       "               1          NaN  0.333333       0.0          0.393105   \n",
       "\n",
       "                       Visitors_Variant  difference  \n",
       "User Type      Bounce                                \n",
       "New User       0               0.585474   -0.025709  \n",
       "               1               0.414526    0.038712  \n",
       "Returning User 0               0.590153   -0.027586  \n",
       "               1               0.409847    0.042589  "
      ]
     },
     "execution_count": 30,
     "metadata": {},
     "output_type": "execute_result"
    }
   ],
   "source": [
    "# examine bounce rate between new and returning user \n",
    "Z = df.loc[df['Land'] == 1, :].groupby(['User Type','Bounce']).sum() / df.loc[df['Land'] == 1, :].groupby(['User Type']).sum()\n",
    "Z['difference'] = (Z['Visitors_Variant'] - Z['Visitors_Control']) / Z['Visitors_Control']\n",
    "Z"
   ]
  },
  {
   "cell_type": "markdown",
   "metadata": {},
   "source": [
    "A similar story, the variance bounces both types of users more than the control though there is less of a difference than was apparent with conversion rates."
   ]
  },
  {
   "cell_type": "markdown",
   "metadata": {},
   "source": [
    "## Question 4: Supplementary Analysis\n",
    "Overall no matter how we examine the data, the variant design performs worse than the established current design so we should therefore not implement the variant design app wide. The only time the variant design did not perform worse when both design choices peaked. This suggested at least during extreme events both work comparably, but on a day to day basis the variant is a poor choice. "
   ]
  }
 ],
 "metadata": {
  "kernelspec": {
   "display_name": "Python 3",
   "language": "python",
   "name": "python3"
  },
  "language_info": {
   "codemirror_mode": {
    "name": "ipython",
    "version": 3
   },
   "file_extension": ".py",
   "mimetype": "text/x-python",
   "name": "python",
   "nbconvert_exporter": "python",
   "pygments_lexer": "ipython3",
   "version": "3.7.3"
  }
 },
 "nbformat": 4,
 "nbformat_minor": 2
}
