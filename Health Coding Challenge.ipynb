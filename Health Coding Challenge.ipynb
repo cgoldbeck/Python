{
 "cells": [
  {
   "cell_type": "markdown",
   "metadata": {},
   "source": [
    "# Health Coding Challenge\n",
    "\n",
    "### Cameron Goldbeck\n",
    "\n",
    "Context: Several cancer drugs are being provided to patients, Drugs A,B,C,D, some of which are given in tandum.\n",
    "\n",
    "Goal: Understand the how drug therapies are given out and which may seem more effective for certain groups."
   ]
  },
  {
   "cell_type": "code",
   "execution_count": 4,
   "metadata": {},
   "outputs": [],
   "source": [
    "# Load libraries\n",
    "import pandas as pd\n",
    "import matplotlib.pyplot as plt\n",
    "import numpy as np\n",
    "from functools import reduce"
   ]
  },
  {
   "cell_type": "code",
   "execution_count": 5,
   "metadata": {},
   "outputs": [
    {
     "data": {
      "text/html": [
       "<div>\n",
       "<style scoped>\n",
       "    .dataframe tbody tr th:only-of-type {\n",
       "        vertical-align: middle;\n",
       "    }\n",
       "\n",
       "    .dataframe tbody tr th {\n",
       "        vertical-align: top;\n",
       "    }\n",
       "\n",
       "    .dataframe thead th {\n",
       "        text-align: right;\n",
       "    }\n",
       "</style>\n",
       "<table border=\"1\" class=\"dataframe\">\n",
       "  <thead>\n",
       "    <tr style=\"text-align: right;\">\n",
       "      <th></th>\n",
       "      <th>patient_id</th>\n",
       "      <th>diagnosis_date</th>\n",
       "      <th>diagnosis_code</th>\n",
       "      <th>diagnosis</th>\n",
       "    </tr>\n",
       "  </thead>\n",
       "  <tbody>\n",
       "    <tr>\n",
       "      <th>0</th>\n",
       "      <td>2120</td>\n",
       "      <td>2010-01-09</td>\n",
       "      <td>174.1</td>\n",
       "      <td>Breast Cancer</td>\n",
       "    </tr>\n",
       "    <tr>\n",
       "      <th>1</th>\n",
       "      <td>2720</td>\n",
       "      <td>2010-01-09</td>\n",
       "      <td>174.1</td>\n",
       "      <td>Breast Cancer</td>\n",
       "    </tr>\n",
       "    <tr>\n",
       "      <th>2</th>\n",
       "      <td>2038</td>\n",
       "      <td>2010-01-21</td>\n",
       "      <td>174.9</td>\n",
       "      <td>Breast Cancer</td>\n",
       "    </tr>\n",
       "    <tr>\n",
       "      <th>3</th>\n",
       "      <td>2238</td>\n",
       "      <td>2010-01-21</td>\n",
       "      <td>174.9</td>\n",
       "      <td>Breast Cancer</td>\n",
       "    </tr>\n",
       "    <tr>\n",
       "      <th>4</th>\n",
       "      <td>2175</td>\n",
       "      <td>2010-02-17</td>\n",
       "      <td>174.7</td>\n",
       "      <td>Breast Cancer</td>\n",
       "    </tr>\n",
       "  </tbody>\n",
       "</table>\n",
       "</div>"
      ],
      "text/plain": [
       "   patient_id diagnosis_date  diagnosis_code      diagnosis\n",
       "0        2120     2010-01-09           174.1  Breast Cancer\n",
       "1        2720     2010-01-09           174.1  Breast Cancer\n",
       "2        2038     2010-01-21           174.9  Breast Cancer\n",
       "3        2238     2010-01-21           174.9  Breast Cancer\n",
       "4        2175     2010-02-17           174.7  Breast Cancer"
      ]
     },
     "execution_count": 5,
     "metadata": {},
     "output_type": "execute_result"
    }
   ],
   "source": [
    "# Load patient diagnosis data\n",
    "d = pd.read_csv('https://raw.githubusercontent.com/cgoldbeck/Datasets/master/Patient_Diagnosis.csv')\n",
    "d['diagnosis_date'] = pd.to_datetime(d['diagnosis_date'])\n",
    "d.head()"
   ]
  },
  {
   "cell_type": "code",
   "execution_count": 6,
   "metadata": {},
   "outputs": [
    {
     "data": {
      "text/html": [
       "<div>\n",
       "<style scoped>\n",
       "    .dataframe tbody tr th:only-of-type {\n",
       "        vertical-align: middle;\n",
       "    }\n",
       "\n",
       "    .dataframe tbody tr th {\n",
       "        vertical-align: top;\n",
       "    }\n",
       "\n",
       "    .dataframe thead th {\n",
       "        text-align: right;\n",
       "    }\n",
       "</style>\n",
       "<table border=\"1\" class=\"dataframe\">\n",
       "  <thead>\n",
       "    <tr style=\"text-align: right;\">\n",
       "      <th></th>\n",
       "      <th>patient_id</th>\n",
       "      <th>treatment_date</th>\n",
       "      <th>drug_code</th>\n",
       "    </tr>\n",
       "  </thead>\n",
       "  <tbody>\n",
       "    <tr>\n",
       "      <th>0</th>\n",
       "      <td>2720</td>\n",
       "      <td>2010-01-20</td>\n",
       "      <td>B</td>\n",
       "    </tr>\n",
       "    <tr>\n",
       "      <th>1</th>\n",
       "      <td>2238</td>\n",
       "      <td>2010-01-21</td>\n",
       "      <td>B</td>\n",
       "    </tr>\n",
       "    <tr>\n",
       "      <th>2</th>\n",
       "      <td>2120</td>\n",
       "      <td>2010-01-23</td>\n",
       "      <td>B</td>\n",
       "    </tr>\n",
       "    <tr>\n",
       "      <th>3</th>\n",
       "      <td>2038</td>\n",
       "      <td>2010-01-24</td>\n",
       "      <td>A</td>\n",
       "    </tr>\n",
       "    <tr>\n",
       "      <th>4</th>\n",
       "      <td>2120</td>\n",
       "      <td>2010-01-24</td>\n",
       "      <td>A</td>\n",
       "    </tr>\n",
       "  </tbody>\n",
       "</table>\n",
       "</div>"
      ],
      "text/plain": [
       "   patient_id treatment_date drug_code\n",
       "0        2720     2010-01-20         B\n",
       "1        2238     2010-01-21         B\n",
       "2        2120     2010-01-23         B\n",
       "3        2038     2010-01-24         A\n",
       "4        2120     2010-01-24         A"
      ]
     },
     "execution_count": 6,
     "metadata": {},
     "output_type": "execute_result"
    }
   ],
   "source": [
    "# Load patient treatment data\n",
    "t = pd.read_csv('https://raw.githubusercontent.com/cgoldbeck/Datasets/master/Patient_Treatment.csv')\n",
    "t['treatment_date'] = pd.to_datetime(t['treatment_date'])\n",
    "t.head()"
   ]
  },
  {
   "cell_type": "code",
   "execution_count": 7,
   "metadata": {},
   "outputs": [
    {
     "data": {
      "text/html": [
       "<div>\n",
       "<style scoped>\n",
       "    .dataframe tbody tr th:only-of-type {\n",
       "        vertical-align: middle;\n",
       "    }\n",
       "\n",
       "    .dataframe tbody tr th {\n",
       "        vertical-align: top;\n",
       "    }\n",
       "\n",
       "    .dataframe thead th {\n",
       "        text-align: right;\n",
       "    }\n",
       "</style>\n",
       "<table border=\"1\" class=\"dataframe\">\n",
       "  <thead>\n",
       "    <tr style=\"text-align: right;\">\n",
       "      <th></th>\n",
       "      <th>patient_id</th>\n",
       "      <th>diagnosis_date</th>\n",
       "      <th>diagnosis_code</th>\n",
       "      <th>diagnosis</th>\n",
       "    </tr>\n",
       "  </thead>\n",
       "  <tbody>\n",
       "    <tr>\n",
       "      <th>18</th>\n",
       "      <td>3449</td>\n",
       "      <td>2011-09-09</td>\n",
       "      <td>153.5</td>\n",
       "      <td>Colon Cancer</td>\n",
       "    </tr>\n",
       "    <tr>\n",
       "      <th>19</th>\n",
       "      <td>3449</td>\n",
       "      <td>2011-09-09</td>\n",
       "      <td>153.4</td>\n",
       "      <td>Colon Cancer</td>\n",
       "    </tr>\n",
       "    <tr>\n",
       "      <th>20</th>\n",
       "      <td>3757</td>\n",
       "      <td>2011-10-11</td>\n",
       "      <td>174.1</td>\n",
       "      <td>Breast Cancer</td>\n",
       "    </tr>\n",
       "    <tr>\n",
       "      <th>21</th>\n",
       "      <td>3757</td>\n",
       "      <td>2011-10-17</td>\n",
       "      <td>153.4</td>\n",
       "      <td>Colon Cancer</td>\n",
       "    </tr>\n",
       "    <tr>\n",
       "      <th>22</th>\n",
       "      <td>3757</td>\n",
       "      <td>2011-10-17</td>\n",
       "      <td>153.5</td>\n",
       "      <td>Colon Cancer</td>\n",
       "    </tr>\n",
       "    <tr>\n",
       "      <th>24</th>\n",
       "      <td>4256</td>\n",
       "      <td>2011-11-07</td>\n",
       "      <td>174.5</td>\n",
       "      <td>Breast Cancer</td>\n",
       "    </tr>\n",
       "    <tr>\n",
       "      <th>25</th>\n",
       "      <td>4256</td>\n",
       "      <td>2011-11-07</td>\n",
       "      <td>174.8</td>\n",
       "      <td>Breast Cancer</td>\n",
       "    </tr>\n",
       "    <tr>\n",
       "      <th>29</th>\n",
       "      <td>4354</td>\n",
       "      <td>2012-02-04</td>\n",
       "      <td>174.8</td>\n",
       "      <td>Breast Cancer</td>\n",
       "    </tr>\n",
       "    <tr>\n",
       "      <th>30</th>\n",
       "      <td>4354</td>\n",
       "      <td>2012-02-04</td>\n",
       "      <td>174.5</td>\n",
       "      <td>Breast Cancer</td>\n",
       "    </tr>\n",
       "    <tr>\n",
       "      <th>31</th>\n",
       "      <td>4374</td>\n",
       "      <td>2012-03-20</td>\n",
       "      <td>174.5</td>\n",
       "      <td>Breast Cancer</td>\n",
       "    </tr>\n",
       "    <tr>\n",
       "      <th>32</th>\n",
       "      <td>4374</td>\n",
       "      <td>2012-03-20</td>\n",
       "      <td>174.8</td>\n",
       "      <td>Breast Cancer</td>\n",
       "    </tr>\n",
       "    <tr>\n",
       "      <th>39</th>\n",
       "      <td>6889</td>\n",
       "      <td>2012-11-14</td>\n",
       "      <td>153.7</td>\n",
       "      <td>Colon Cancer</td>\n",
       "    </tr>\n",
       "    <tr>\n",
       "      <th>41</th>\n",
       "      <td>6922</td>\n",
       "      <td>2012-11-15</td>\n",
       "      <td>153.6</td>\n",
       "      <td>Colon Cancer</td>\n",
       "    </tr>\n",
       "    <tr>\n",
       "      <th>42</th>\n",
       "      <td>6889</td>\n",
       "      <td>2012-11-17</td>\n",
       "      <td>174.7</td>\n",
       "      <td>Breast Cancer</td>\n",
       "    </tr>\n",
       "    <tr>\n",
       "      <th>43</th>\n",
       "      <td>6922</td>\n",
       "      <td>2012-11-20</td>\n",
       "      <td>174.9</td>\n",
       "      <td>Breast Cancer</td>\n",
       "    </tr>\n",
       "    <tr>\n",
       "      <th>44</th>\n",
       "      <td>6877</td>\n",
       "      <td>2012-11-26</td>\n",
       "      <td>153.4</td>\n",
       "      <td>Colon Cancer</td>\n",
       "    </tr>\n",
       "    <tr>\n",
       "      <th>45</th>\n",
       "      <td>6877</td>\n",
       "      <td>2012-12-09</td>\n",
       "      <td>174.3</td>\n",
       "      <td>Breast Cancer</td>\n",
       "    </tr>\n",
       "    <tr>\n",
       "      <th>46</th>\n",
       "      <td>7230</td>\n",
       "      <td>2013-01-02</td>\n",
       "      <td>153.8</td>\n",
       "      <td>Colon Cancer</td>\n",
       "    </tr>\n",
       "    <tr>\n",
       "      <th>48</th>\n",
       "      <td>7230</td>\n",
       "      <td>2013-01-06</td>\n",
       "      <td>174.9</td>\n",
       "      <td>Breast Cancer</td>\n",
       "    </tr>\n",
       "  </tbody>\n",
       "</table>\n",
       "</div>"
      ],
      "text/plain": [
       "    patient_id diagnosis_date  diagnosis_code      diagnosis\n",
       "18        3449     2011-09-09           153.5   Colon Cancer\n",
       "19        3449     2011-09-09           153.4   Colon Cancer\n",
       "20        3757     2011-10-11           174.1  Breast Cancer\n",
       "21        3757     2011-10-17           153.4   Colon Cancer\n",
       "22        3757     2011-10-17           153.5   Colon Cancer\n",
       "24        4256     2011-11-07           174.5  Breast Cancer\n",
       "25        4256     2011-11-07           174.8  Breast Cancer\n",
       "29        4354     2012-02-04           174.8  Breast Cancer\n",
       "30        4354     2012-02-04           174.5  Breast Cancer\n",
       "31        4374     2012-03-20           174.5  Breast Cancer\n",
       "32        4374     2012-03-20           174.8  Breast Cancer\n",
       "39        6889     2012-11-14           153.7   Colon Cancer\n",
       "41        6922     2012-11-15           153.6   Colon Cancer\n",
       "42        6889     2012-11-17           174.7  Breast Cancer\n",
       "43        6922     2012-11-20           174.9  Breast Cancer\n",
       "44        6877     2012-11-26           153.4   Colon Cancer\n",
       "45        6877     2012-12-09           174.3  Breast Cancer\n",
       "46        7230     2013-01-02           153.8   Colon Cancer\n",
       "48        7230     2013-01-06           174.9  Breast Cancer"
      ]
     },
     "execution_count": 7,
     "metadata": {},
     "output_type": "execute_result"
    }
   ],
   "source": [
    "# identify how many entries (unique and multiple) there are in the data and why there are multiples\n",
    "ids = d['patient_id'].value_counts()\n",
    "id_mult = ids[ids > 1]\n",
    "d.loc[d['patient_id'].isin(id_mult.index)]"
   ]
  },
  {
   "cell_type": "code",
   "execution_count": 8,
   "metadata": {
    "scrolled": true
   },
   "outputs": [
    {
     "name": "stdout",
     "output_type": "stream",
     "text": [
      "Original Size:  (57, 4) Unique Size:  (47, 4)\n"
     ]
    }
   ],
   "source": [
    "d_uni = d.sort_values(by=['patient_id', 'diagnosis_date'])\n",
    "d_uni = d_uni.drop_duplicates(subset='patient_id', keep='first')\n",
    "print(\"Original Size: \", d.shape, \"Unique Size: \", d_uni.shape)"
   ]
  },
  {
   "cell_type": "markdown",
   "metadata": {},
   "source": [
    "There are 47 unique individuals in the data with 9 of those having multiple diagnoses, either both forms of cancer or multiple codes for a single type."
   ]
  },
  {
   "cell_type": "markdown",
   "metadata": {},
   "source": [
    "### Question 1:\n",
    "First, the clinic would like to know the distribution of cancer types across their patients. Please provide the clinic with this information."
   ]
  },
  {
   "cell_type": "code",
   "execution_count": 9,
   "metadata": {},
   "outputs": [],
   "source": [
    "# So we do not double count, we use the unique dataset\n",
    "diagnosis = d_uni['diagnosis'].value_counts()\n",
    "diagnosis = diagnosis / diagnosis.sum()"
   ]
  },
  {
   "cell_type": "code",
   "execution_count": 10,
   "metadata": {},
   "outputs": [
    {
     "data": {
      "text/plain": [
       "Breast Cancer    0.680851\n",
       "Colon Cancer     0.319149\n",
       "Name: diagnosis, dtype: float64"
      ]
     },
     "execution_count": 10,
     "metadata": {},
     "output_type": "execute_result"
    }
   ],
   "source": [
    "diagnosis"
   ]
  },
  {
   "cell_type": "markdown",
   "metadata": {},
   "source": [
    "### Answer 1:\n",
    "\n",
    "There are multiple entries for some individuals that represent slightly different diagnosis codes for the same overall cancer diagnosis, therefore we first need to filter down to one row per individual to get a distribution of cancer types. Overall, about 68% of patients have breast cancer while the remaining 32% of patients have colon cancer. "
   ]
  },
  {
   "cell_type": "markdown",
   "metadata": {},
   "source": [
    "### Question 2:\n",
    "The clinic wants to know how long it takes for patients to start therapy after being diagnosed, which they consider to be helpful in understanding the quality of care for the patient. How long after being diagnosed do patients start treatment?"
   ]
  },
  {
   "cell_type": "code",
   "execution_count": 11,
   "metadata": {},
   "outputs": [
    {
     "name": "stdout",
     "output_type": "stream",
     "text": [
      "Original Size:  (1096, 3) Unique Size:  (46, 3)\n"
     ]
    }
   ],
   "source": [
    "# create a df with the first treatment entry for each patient\n",
    "t_uni = t.sort_values(by=['patient_id', 'treatment_date'])\n",
    "t_uni = t_uni.drop_duplicates(subset='patient_id', keep='first')\n",
    "print(\"Original Size: \", t.shape, \"Unique Size: \", t_uni.shape)"
   ]
  },
  {
   "cell_type": "code",
   "execution_count": 12,
   "metadata": {},
   "outputs": [
    {
     "data": {
      "text/plain": [
       "{4256}"
      ]
     },
     "execution_count": 12,
     "metadata": {},
     "output_type": "execute_result"
    }
   ],
   "source": [
    "# check to see if there are patients in the treatment dataset not in diagnosis\n",
    "set(d_uni['patient_id']) - set(t_uni['patient_id'])"
   ]
  },
  {
   "cell_type": "code",
   "execution_count": 13,
   "metadata": {},
   "outputs": [
    {
     "data": {
      "text/html": [
       "<div>\n",
       "<style scoped>\n",
       "    .dataframe tbody tr th:only-of-type {\n",
       "        vertical-align: middle;\n",
       "    }\n",
       "\n",
       "    .dataframe tbody tr th {\n",
       "        vertical-align: top;\n",
       "    }\n",
       "\n",
       "    .dataframe thead th {\n",
       "        text-align: right;\n",
       "    }\n",
       "</style>\n",
       "<table border=\"1\" class=\"dataframe\">\n",
       "  <thead>\n",
       "    <tr style=\"text-align: right;\">\n",
       "      <th></th>\n",
       "      <th>patient_id</th>\n",
       "      <th>diagnosis_date</th>\n",
       "      <th>diagnosis_code</th>\n",
       "      <th>diagnosis</th>\n",
       "    </tr>\n",
       "  </thead>\n",
       "  <tbody>\n",
       "    <tr>\n",
       "      <th>24</th>\n",
       "      <td>4256</td>\n",
       "      <td>2011-11-07</td>\n",
       "      <td>174.5</td>\n",
       "      <td>Breast Cancer</td>\n",
       "    </tr>\n",
       "    <tr>\n",
       "      <th>25</th>\n",
       "      <td>4256</td>\n",
       "      <td>2011-11-07</td>\n",
       "      <td>174.8</td>\n",
       "      <td>Breast Cancer</td>\n",
       "    </tr>\n",
       "  </tbody>\n",
       "</table>\n",
       "</div>"
      ],
      "text/plain": [
       "    patient_id diagnosis_date  diagnosis_code      diagnosis\n",
       "24        4256     2011-11-07           174.5  Breast Cancer\n",
       "25        4256     2011-11-07           174.8  Breast Cancer"
      ]
     },
     "execution_count": 13,
     "metadata": {},
     "output_type": "execute_result"
    }
   ],
   "source": [
    "d.loc[d['patient_id'] == 4256, :]"
   ]
  },
  {
   "cell_type": "code",
   "execution_count": 14,
   "metadata": {},
   "outputs": [
    {
     "data": {
      "text/html": [
       "<div>\n",
       "<style scoped>\n",
       "    .dataframe tbody tr th:only-of-type {\n",
       "        vertical-align: middle;\n",
       "    }\n",
       "\n",
       "    .dataframe tbody tr th {\n",
       "        vertical-align: top;\n",
       "    }\n",
       "\n",
       "    .dataframe thead th {\n",
       "        text-align: right;\n",
       "    }\n",
       "</style>\n",
       "<table border=\"1\" class=\"dataframe\">\n",
       "  <thead>\n",
       "    <tr style=\"text-align: right;\">\n",
       "      <th></th>\n",
       "      <th>patient_id</th>\n",
       "      <th>treatment_date</th>\n",
       "      <th>drug_code</th>\n",
       "    </tr>\n",
       "  </thead>\n",
       "  <tbody>\n",
       "  </tbody>\n",
       "</table>\n",
       "</div>"
      ],
      "text/plain": [
       "Empty DataFrame\n",
       "Columns: [patient_id, treatment_date, drug_code]\n",
       "Index: []"
      ]
     },
     "execution_count": 14,
     "metadata": {},
     "output_type": "execute_result"
    }
   ],
   "source": [
    "t.loc[t['patient_id'] == 4256, :]  # not in the treatment data"
   ]
  },
  {
   "cell_type": "code",
   "execution_count": 15,
   "metadata": {},
   "outputs": [
    {
     "data": {
      "text/html": [
       "<div>\n",
       "<style scoped>\n",
       "    .dataframe tbody tr th:only-of-type {\n",
       "        vertical-align: middle;\n",
       "    }\n",
       "\n",
       "    .dataframe tbody tr th {\n",
       "        vertical-align: top;\n",
       "    }\n",
       "\n",
       "    .dataframe thead th {\n",
       "        text-align: right;\n",
       "    }\n",
       "</style>\n",
       "<table border=\"1\" class=\"dataframe\">\n",
       "  <thead>\n",
       "    <tr style=\"text-align: right;\">\n",
       "      <th></th>\n",
       "      <th>patient_id</th>\n",
       "      <th>diagnosis_date</th>\n",
       "      <th>diagnosis_code</th>\n",
       "      <th>diagnosis</th>\n",
       "      <th>treatment_date</th>\n",
       "      <th>drug_code</th>\n",
       "      <th>time_to_treatment</th>\n",
       "    </tr>\n",
       "  </thead>\n",
       "  <tbody>\n",
       "    <tr>\n",
       "      <th>0</th>\n",
       "      <td>2038</td>\n",
       "      <td>2010-01-21</td>\n",
       "      <td>174.9</td>\n",
       "      <td>Breast Cancer</td>\n",
       "      <td>2010-01-24</td>\n",
       "      <td>A</td>\n",
       "      <td>3 days</td>\n",
       "    </tr>\n",
       "    <tr>\n",
       "      <th>1</th>\n",
       "      <td>2120</td>\n",
       "      <td>2010-01-09</td>\n",
       "      <td>174.1</td>\n",
       "      <td>Breast Cancer</td>\n",
       "      <td>2010-01-23</td>\n",
       "      <td>B</td>\n",
       "      <td>14 days</td>\n",
       "    </tr>\n",
       "    <tr>\n",
       "      <th>2</th>\n",
       "      <td>2175</td>\n",
       "      <td>2010-02-17</td>\n",
       "      <td>174.7</td>\n",
       "      <td>Breast Cancer</td>\n",
       "      <td>2010-02-21</td>\n",
       "      <td>A</td>\n",
       "      <td>4 days</td>\n",
       "    </tr>\n",
       "    <tr>\n",
       "      <th>3</th>\n",
       "      <td>2238</td>\n",
       "      <td>2010-01-21</td>\n",
       "      <td>174.9</td>\n",
       "      <td>Breast Cancer</td>\n",
       "      <td>2010-01-21</td>\n",
       "      <td>B</td>\n",
       "      <td>0 days</td>\n",
       "    </tr>\n",
       "    <tr>\n",
       "      <th>4</th>\n",
       "      <td>2407</td>\n",
       "      <td>2010-06-13</td>\n",
       "      <td>174.9</td>\n",
       "      <td>Breast Cancer</td>\n",
       "      <td>2010-06-19</td>\n",
       "      <td>A</td>\n",
       "      <td>6 days</td>\n",
       "    </tr>\n",
       "  </tbody>\n",
       "</table>\n",
       "</div>"
      ],
      "text/plain": [
       "   patient_id diagnosis_date  diagnosis_code      diagnosis treatment_date  \\\n",
       "0        2038     2010-01-21           174.9  Breast Cancer     2010-01-24   \n",
       "1        2120     2010-01-09           174.1  Breast Cancer     2010-01-23   \n",
       "2        2175     2010-02-17           174.7  Breast Cancer     2010-02-21   \n",
       "3        2238     2010-01-21           174.9  Breast Cancer     2010-01-21   \n",
       "4        2407     2010-06-13           174.9  Breast Cancer     2010-06-19   \n",
       "\n",
       "  drug_code time_to_treatment  \n",
       "0         A            3 days  \n",
       "1         B           14 days  \n",
       "2         A            4 days  \n",
       "3         B            0 days  \n",
       "4         A            6 days  "
      ]
     },
     "execution_count": 15,
     "metadata": {},
     "output_type": "execute_result"
    }
   ],
   "source": [
    "# merge the diagnosis and first treatment date datasets\n",
    "d_t = d_uni.merge(t_uni, left_on='patient_id', right_on='patient_id')\n",
    "d_t['time_to_treatment'] = d_t['treatment_date'] - d_t['diagnosis_date']\n",
    "d_t.head()"
   ]
  },
  {
   "cell_type": "code",
   "execution_count": 16,
   "metadata": {},
   "outputs": [
    {
     "name": "stdout",
     "output_type": "stream",
     "text": [
      "Average time to treatment (in days):  11\n",
      "Range of time to treatment (in days):  -3 ,  304\n"
     ]
    }
   ],
   "source": [
    "print('Average time to treatment (in days): ', d_t['time_to_treatment'].mean().days)\n",
    "print('Range of time to treatment (in days): ', d_t['time_to_treatment'].min().days, ', ', d_t['time_to_treatment'].max().days)"
   ]
  },
  {
   "cell_type": "code",
   "execution_count": 17,
   "metadata": {},
   "outputs": [
    {
     "data": {
      "text/plain": [
       "43   -3 days\n",
       "Name: time_to_treatment, dtype: timedelta64[ns]"
      ]
     },
     "execution_count": 17,
     "metadata": {},
     "output_type": "execute_result"
    }
   ],
   "source": [
    "d_t['time_to_treatment'][d_t['time_to_treatment'] < np.timedelta64(0, 'D')]"
   ]
  },
  {
   "cell_type": "code",
   "execution_count": 18,
   "metadata": {},
   "outputs": [
    {
     "name": "stdout",
     "output_type": "stream",
     "text": [
      "Average time to treatment (in days):  11\n",
      "Range of time to treatment (in days):  0 ,  304\n"
     ]
    }
   ],
   "source": [
    "d_t2 = d_t\n",
    "d_t2.loc[d_t['time_to_treatment'] < np.timedelta64(0, 'D'), 'time_to_treatment'] = np.timedelta64(0, 'D')\n",
    "print('Average time to treatment (in days): ', d_t2['time_to_treatment'].mean().days)\n",
    "print('Range of time to treatment (in days): ', d_t2['time_to_treatment'].min().days, ', ', d_t2['time_to_treatment'].max().days)"
   ]
  },
  {
   "cell_type": "markdown",
   "metadata": {},
   "source": [
    "### Answer 2:\n",
    "\n",
    "Using the earliest date of treatment reported, we calculate the difference in days between when patients are diagnosed and when their earliest treatment is reported. We find the means number of days to treatment is 11 while the raw range is -3 days to 304 days. Obviously this negative time to treatment is not possible and is most likely a quality issue with the date (e.g. entry). To account for this, we can replace negative values with a 0, which may most closely reflect their quick time to treatment. By doing this we find the same average of 11 days to treatment and the range is then 0 days to 304 days to treatment."
   ]
  },
  {
   "cell_type": "markdown",
   "metadata": {},
   "source": [
    "### Quesiton 3: \n",
    "\n",
    "Which treatment regimens do you think would be indicated to be used as first-line of treatment for breast cancer? What about colon cancer? "
   ]
  },
  {
   "cell_type": "code",
   "execution_count": 19,
   "metadata": {},
   "outputs": [
    {
     "data": {
      "text/html": [
       "<div>\n",
       "<style scoped>\n",
       "    .dataframe tbody tr th:only-of-type {\n",
       "        vertical-align: middle;\n",
       "    }\n",
       "\n",
       "    .dataframe tbody tr th {\n",
       "        vertical-align: top;\n",
       "    }\n",
       "\n",
       "    .dataframe thead th {\n",
       "        text-align: right;\n",
       "    }\n",
       "</style>\n",
       "<table border=\"1\" class=\"dataframe\">\n",
       "  <thead>\n",
       "    <tr style=\"text-align: right;\">\n",
       "      <th></th>\n",
       "      <th>patient_id</th>\n",
       "      <th>treatment_date</th>\n",
       "      <th>drug_code</th>\n",
       "    </tr>\n",
       "  </thead>\n",
       "  <tbody>\n",
       "    <tr>\n",
       "      <th>0</th>\n",
       "      <td>2720</td>\n",
       "      <td>2010-01-20</td>\n",
       "      <td>B</td>\n",
       "    </tr>\n",
       "    <tr>\n",
       "      <th>1</th>\n",
       "      <td>2238</td>\n",
       "      <td>2010-01-21</td>\n",
       "      <td>B</td>\n",
       "    </tr>\n",
       "    <tr>\n",
       "      <th>2</th>\n",
       "      <td>2120</td>\n",
       "      <td>2010-01-23</td>\n",
       "      <td>B</td>\n",
       "    </tr>\n",
       "    <tr>\n",
       "      <th>3</th>\n",
       "      <td>2038</td>\n",
       "      <td>2010-01-24</td>\n",
       "      <td>A</td>\n",
       "    </tr>\n",
       "    <tr>\n",
       "      <th>4</th>\n",
       "      <td>2120</td>\n",
       "      <td>2010-01-24</td>\n",
       "      <td>A</td>\n",
       "    </tr>\n",
       "  </tbody>\n",
       "</table>\n",
       "</div>"
      ],
      "text/plain": [
       "   patient_id treatment_date drug_code\n",
       "0        2720     2010-01-20         B\n",
       "1        2238     2010-01-21         B\n",
       "2        2120     2010-01-23         B\n",
       "3        2038     2010-01-24         A\n",
       "4        2120     2010-01-24         A"
      ]
     },
     "execution_count": 19,
     "metadata": {},
     "output_type": "execute_result"
    }
   ],
   "source": [
    "t.head()"
   ]
  },
  {
   "cell_type": "code",
   "execution_count": 20,
   "metadata": {},
   "outputs": [],
   "source": [
    "# gather treatment types individually\n",
    "t_a = t.loc[t['drug_code'] == 'A', :]\n",
    "t_b = t.loc[t['drug_code'] == 'B', :]\n",
    "t_c = t.loc[t['drug_code'] == 'C', :]\n",
    "t_d = t.loc[t['drug_code'] == 'D', :]"
   ]
  },
  {
   "cell_type": "code",
   "execution_count": 21,
   "metadata": {},
   "outputs": [],
   "source": [
    "# sort by treatment data so we know which drug was taken first if multiple were taken\n",
    "t_a = t_a.sort_values(by=['patient_id', 'treatment_date']).drop_duplicates(subset='patient_id', keep='first')\n",
    "t_b = t_b.sort_values(by=['patient_id', 'treatment_date']).drop_duplicates(subset='patient_id', keep='first')\n",
    "t_c = t_c.sort_values(by=['patient_id', 'treatment_date']).drop_duplicates(subset='patient_id', keep='first')\n",
    "t_d = t_d.sort_values(by=['patient_id', 'treatment_date']).drop_duplicates(subset='patient_id', keep='first')"
   ]
  },
  {
   "cell_type": "code",
   "execution_count": 22,
   "metadata": {},
   "outputs": [],
   "source": [
    "# combine all treatment sets\n",
    "hold = [t_a, t_b, t_c, t_d]\n",
    "ts = reduce(lambda  left,right: pd.merge(left,right,on=['patient_id'], how='outer'), hold).fillna(np.nan)\n",
    "ts.columns = ['patient_id', 'treatment_date_A', 'drug_code_A', 'treatment_date_B', 'drug_code_B', 'treatment_date_C', \n",
    "                 'drug_code_C', 'treatment_date_D', 'drug_code_D']"
   ]
  },
  {
   "cell_type": "code",
   "execution_count": 23,
   "metadata": {
    "scrolled": true
   },
   "outputs": [
    {
     "data": {
      "text/html": [
       "<div>\n",
       "<style scoped>\n",
       "    .dataframe tbody tr th:only-of-type {\n",
       "        vertical-align: middle;\n",
       "    }\n",
       "\n",
       "    .dataframe tbody tr th {\n",
       "        vertical-align: top;\n",
       "    }\n",
       "\n",
       "    .dataframe thead th {\n",
       "        text-align: right;\n",
       "    }\n",
       "</style>\n",
       "<table border=\"1\" class=\"dataframe\">\n",
       "  <thead>\n",
       "    <tr style=\"text-align: right;\">\n",
       "      <th></th>\n",
       "      <th>patient_id</th>\n",
       "      <th>treatment_date_A</th>\n",
       "      <th>drug_code_A</th>\n",
       "      <th>treatment_date_B</th>\n",
       "      <th>drug_code_B</th>\n",
       "      <th>treatment_date_C</th>\n",
       "      <th>drug_code_C</th>\n",
       "      <th>treatment_date_D</th>\n",
       "      <th>drug_code_D</th>\n",
       "    </tr>\n",
       "  </thead>\n",
       "  <tbody>\n",
       "    <tr>\n",
       "      <th>0</th>\n",
       "      <td>2038</td>\n",
       "      <td>2010-01-24</td>\n",
       "      <td>A</td>\n",
       "      <td>2010-01-24</td>\n",
       "      <td>B</td>\n",
       "      <td>NaT</td>\n",
       "      <td>NaN</td>\n",
       "      <td>NaT</td>\n",
       "      <td>NaN</td>\n",
       "    </tr>\n",
       "    <tr>\n",
       "      <th>1</th>\n",
       "      <td>2120</td>\n",
       "      <td>2010-01-24</td>\n",
       "      <td>A</td>\n",
       "      <td>2010-01-23</td>\n",
       "      <td>B</td>\n",
       "      <td>NaT</td>\n",
       "      <td>NaN</td>\n",
       "      <td>NaT</td>\n",
       "      <td>NaN</td>\n",
       "    </tr>\n",
       "    <tr>\n",
       "      <th>2</th>\n",
       "      <td>2175</td>\n",
       "      <td>2010-02-21</td>\n",
       "      <td>A</td>\n",
       "      <td>2010-02-21</td>\n",
       "      <td>B</td>\n",
       "      <td>NaT</td>\n",
       "      <td>NaN</td>\n",
       "      <td>NaT</td>\n",
       "      <td>NaN</td>\n",
       "    </tr>\n",
       "    <tr>\n",
       "      <th>3</th>\n",
       "      <td>2407</td>\n",
       "      <td>2010-06-19</td>\n",
       "      <td>A</td>\n",
       "      <td>2010-06-19</td>\n",
       "      <td>B</td>\n",
       "      <td>NaT</td>\n",
       "      <td>NaN</td>\n",
       "      <td>NaT</td>\n",
       "      <td>NaN</td>\n",
       "    </tr>\n",
       "    <tr>\n",
       "      <th>4</th>\n",
       "      <td>2425</td>\n",
       "      <td>2010-12-19</td>\n",
       "      <td>A</td>\n",
       "      <td>2010-12-19</td>\n",
       "      <td>B</td>\n",
       "      <td>NaT</td>\n",
       "      <td>NaN</td>\n",
       "      <td>NaT</td>\n",
       "      <td>NaN</td>\n",
       "    </tr>\n",
       "  </tbody>\n",
       "</table>\n",
       "</div>"
      ],
      "text/plain": [
       "   patient_id treatment_date_A drug_code_A treatment_date_B drug_code_B  \\\n",
       "0        2038       2010-01-24           A       2010-01-24           B   \n",
       "1        2120       2010-01-24           A       2010-01-23           B   \n",
       "2        2175       2010-02-21           A       2010-02-21           B   \n",
       "3        2407       2010-06-19           A       2010-06-19           B   \n",
       "4        2425       2010-12-19           A       2010-12-19           B   \n",
       "\n",
       "  treatment_date_C drug_code_C treatment_date_D drug_code_D  \n",
       "0              NaT         NaN              NaT         NaN  \n",
       "1              NaT         NaN              NaT         NaN  \n",
       "2              NaT         NaN              NaT         NaN  \n",
       "3              NaT         NaN              NaT         NaN  \n",
       "4              NaT         NaN              NaT         NaN  "
      ]
     },
     "execution_count": 23,
     "metadata": {},
     "output_type": "execute_result"
    }
   ],
   "source": [
    "ts.head()"
   ]
  },
  {
   "cell_type": "code",
   "execution_count": 24,
   "metadata": {},
   "outputs": [
    {
     "data": {
      "text/html": [
       "<div>\n",
       "<style scoped>\n",
       "    .dataframe tbody tr th:only-of-type {\n",
       "        vertical-align: middle;\n",
       "    }\n",
       "\n",
       "    .dataframe tbody tr th {\n",
       "        vertical-align: top;\n",
       "    }\n",
       "\n",
       "    .dataframe thead th {\n",
       "        text-align: right;\n",
       "    }\n",
       "</style>\n",
       "<table border=\"1\" class=\"dataframe\">\n",
       "  <thead>\n",
       "    <tr style=\"text-align: right;\">\n",
       "      <th></th>\n",
       "      <th>patient_id</th>\n",
       "      <th>treatment_date_A</th>\n",
       "      <th>drug_code_A</th>\n",
       "      <th>treatment_date_B</th>\n",
       "      <th>drug_code_B</th>\n",
       "      <th>treatment_date_C</th>\n",
       "      <th>drug_code_C</th>\n",
       "      <th>treatment_date_D</th>\n",
       "      <th>drug_code_D</th>\n",
       "      <th>first_line_date</th>\n",
       "      <th>first_line</th>\n",
       "      <th>diagnosis</th>\n",
       "    </tr>\n",
       "  </thead>\n",
       "  <tbody>\n",
       "    <tr>\n",
       "      <th>0</th>\n",
       "      <td>2038</td>\n",
       "      <td>2010-01-24</td>\n",
       "      <td>A</td>\n",
       "      <td>2010-01-24</td>\n",
       "      <td>B</td>\n",
       "      <td>NaT</td>\n",
       "      <td>NaN</td>\n",
       "      <td>NaT</td>\n",
       "      <td>NaN</td>\n",
       "      <td>2010-01-24</td>\n",
       "      <td>AB</td>\n",
       "      <td>Breast Cancer</td>\n",
       "    </tr>\n",
       "    <tr>\n",
       "      <th>1</th>\n",
       "      <td>2120</td>\n",
       "      <td>2010-01-24</td>\n",
       "      <td>NaN</td>\n",
       "      <td>2010-01-23</td>\n",
       "      <td>B</td>\n",
       "      <td>NaT</td>\n",
       "      <td>NaN</td>\n",
       "      <td>NaT</td>\n",
       "      <td>NaN</td>\n",
       "      <td>2010-01-23</td>\n",
       "      <td>B</td>\n",
       "      <td>Breast Cancer</td>\n",
       "    </tr>\n",
       "    <tr>\n",
       "      <th>2</th>\n",
       "      <td>2175</td>\n",
       "      <td>2010-02-21</td>\n",
       "      <td>A</td>\n",
       "      <td>2010-02-21</td>\n",
       "      <td>B</td>\n",
       "      <td>NaT</td>\n",
       "      <td>NaN</td>\n",
       "      <td>NaT</td>\n",
       "      <td>NaN</td>\n",
       "      <td>2010-02-21</td>\n",
       "      <td>AB</td>\n",
       "      <td>Breast Cancer</td>\n",
       "    </tr>\n",
       "    <tr>\n",
       "      <th>3</th>\n",
       "      <td>2407</td>\n",
       "      <td>2010-06-19</td>\n",
       "      <td>A</td>\n",
       "      <td>2010-06-19</td>\n",
       "      <td>B</td>\n",
       "      <td>NaT</td>\n",
       "      <td>NaN</td>\n",
       "      <td>NaT</td>\n",
       "      <td>NaN</td>\n",
       "      <td>2010-06-19</td>\n",
       "      <td>AB</td>\n",
       "      <td>Breast Cancer</td>\n",
       "    </tr>\n",
       "    <tr>\n",
       "      <th>4</th>\n",
       "      <td>2425</td>\n",
       "      <td>2010-12-19</td>\n",
       "      <td>A</td>\n",
       "      <td>2010-12-19</td>\n",
       "      <td>B</td>\n",
       "      <td>NaT</td>\n",
       "      <td>NaN</td>\n",
       "      <td>NaT</td>\n",
       "      <td>NaN</td>\n",
       "      <td>2010-12-19</td>\n",
       "      <td>AB</td>\n",
       "      <td>Breast Cancer</td>\n",
       "    </tr>\n",
       "  </tbody>\n",
       "</table>\n",
       "</div>"
      ],
      "text/plain": [
       "   patient_id treatment_date_A drug_code_A treatment_date_B drug_code_B  \\\n",
       "0        2038       2010-01-24           A       2010-01-24           B   \n",
       "1        2120       2010-01-24         NaN       2010-01-23           B   \n",
       "2        2175       2010-02-21           A       2010-02-21           B   \n",
       "3        2407       2010-06-19           A       2010-06-19           B   \n",
       "4        2425       2010-12-19           A       2010-12-19           B   \n",
       "\n",
       "  treatment_date_C drug_code_C treatment_date_D drug_code_D first_line_date  \\\n",
       "0              NaT         NaN              NaT         NaN      2010-01-24   \n",
       "1              NaT         NaN              NaT         NaN      2010-01-23   \n",
       "2              NaT         NaN              NaT         NaN      2010-02-21   \n",
       "3              NaT         NaN              NaT         NaN      2010-06-19   \n",
       "4              NaT         NaN              NaT         NaN      2010-12-19   \n",
       "\n",
       "  first_line      diagnosis  \n",
       "0         AB  Breast Cancer  \n",
       "1          B  Breast Cancer  \n",
       "2         AB  Breast Cancer  \n",
       "3         AB  Breast Cancer  \n",
       "4         AB  Breast Cancer  "
      ]
     },
     "execution_count": 24,
     "metadata": {},
     "output_type": "execute_result"
    }
   ],
   "source": [
    "# identify first line treatment comparing dates of all treatment dates\n",
    "ts['first_line_date'] = ts.loc[:, ['treatment_date_A', 'treatment_date_B', 'treatment_date_C', 'treatment_date_D']].min(axis=1)\n",
    "ts.loc[ts['treatment_date_A'] != ts['first_line_date'], 'drug_code_A'] = np.nan\n",
    "ts.loc[ts['treatment_date_B'] != ts['first_line_date'], 'drug_code_B'] = np.nan\n",
    "ts.loc[ts['treatment_date_C'] != ts['first_line_date'], 'drug_code_C'] = np.nan\n",
    "ts.loc[ts['treatment_date_D'] != ts['first_line_date'], 'drug_code_D'] = np.nan\n",
    "ts['first_line'] = ts[['drug_code_A', 'drug_code_B', \n",
    "                       'drug_code_C', 'drug_code_D']].apply(lambda x: \n",
    "                                                            None if x.isnull().all() else ''.join(x.dropna()), axis=1)\n",
    "ts = ts.merge(d_uni[['patient_id', 'diagnosis']], left_on='patient_id', right_on='patient_id')\n",
    "ts.head()"
   ]
  },
  {
   "cell_type": "code",
   "execution_count": 25,
   "metadata": {},
   "outputs": [
    {
     "name": "stdout",
     "output_type": "stream",
     "text": [
      "First line treatment breakdown for breast cancer \n",
      " [['A' 4 0.12903225806451613]\n",
      " ['AB' 17 0.5483870967741935]\n",
      " ['B' 7 0.22580645161290322]\n",
      " ['C' 3 0.0967741935483871]]\n",
      "\n",
      "\n",
      "First line treatment breakdown for colon cancer \n",
      " [['AB' 4 0.26666666666666666]\n",
      " ['B' 4 0.26666666666666666]\n",
      " ['C' 3 0.2]\n",
      " ['D' 4 0.26666666666666666]]\n"
     ]
    }
   ],
   "source": [
    "# list first line treatment for each cancer type\n",
    "drugs_bc, counts_bc = np.unique(ts.loc[ts['diagnosis'] == 'Breast Cancer', 'first_line'], return_counts=True)\n",
    "percent_bc = counts_bc/counts_bc.sum()\n",
    "\n",
    "drugs_cc, counts_cc = np.unique(ts.loc[ts['diagnosis'] == 'Colon Cancer', 'first_line'], return_counts=True)\n",
    "percent_cc = counts_cc/counts_cc.sum()\n",
    "\n",
    "print('First line treatment breakdown for breast cancer', '\\n', np.asarray((drugs_bc, counts_bc, percent_bc)).T)\n",
    "print('\\n')\n",
    "print('First line treatment breakdown for colon cancer', '\\n', np.asarray((drugs_cc, counts_cc, percent_cc)).T)"
   ]
  },
  {
   "cell_type": "markdown",
   "metadata": {},
   "source": [
    "### Answer 3:\n",
    "\n",
    "It appears that for breast cancer the most common first like treatment is the combination of Drugs A and B with about 55% of breast cancer patients receiving them as their first treatment. This is followed by only Drug B at 23%, only Drug A at 13%, and finally Drug C with about 10% of patients receiving this drug first.\n",
    "\n",
    "For colon cancer the results are more spread. We find that equal number of colon cancer patients received Drug A and B in combinaiton, Drug B alon, and Drug D, all at about 27% of patients. This is followed by Drug C with 20% of patients receiving this drug first."
   ]
  },
  {
   "cell_type": "markdown",
   "metadata": {},
   "source": [
    "### Question 4:\n",
    "\n",
    "Do the patients taking Regimen A vs. Regimen B as first-line therapy for breast cancer vary in terms of duration of therapy? "
   ]
  },
  {
   "cell_type": "code",
   "execution_count": 26,
   "metadata": {},
   "outputs": [],
   "source": [
    "# gather patients for each type of first line treatment and cancer type\n",
    "As = ts['patient_id'][(ts['first_line'] == 'A') & (ts['diagnosis'] == 'Breast Cancer')]\n",
    "Bs = ts['patient_id'][(ts['first_line'] == 'B') & (ts['diagnosis'] == 'Breast Cancer')]"
   ]
  },
  {
   "cell_type": "code",
   "execution_count": 27,
   "metadata": {},
   "outputs": [],
   "source": [
    "# gather furst and last days of treatment for both drugs\n",
    "t = t.sort_values(by=['patient_id', 'treatment_date'])\n",
    "t_bi1 = t.drop_duplicates(subset='patient_id', keep='first')\n",
    "t_bi2 = t.drop_duplicates(subset='patient_id', keep='last')\n",
    "t_bi3 = t_bi1.merge(t_bi2, left_on='patient_id', right_on='patient_id')\n",
    "t_bi3['treatment_lenght'] = t_bi3['treatment_date_y'] - t_bi3['treatment_date_x']"
   ]
  },
  {
   "cell_type": "code",
   "execution_count": 28,
   "metadata": {},
   "outputs": [],
   "source": [
    "t_bi_A = t_bi3.loc[t_bi3['patient_id'].isin(As), :]\n",
    "t_bi_B = t_bi3.loc[t_bi3['patient_id'].isin(Bs), :]"
   ]
  },
  {
   "cell_type": "code",
   "execution_count": 29,
   "metadata": {},
   "outputs": [
    {
     "name": "stdout",
     "output_type": "stream",
     "text": [
      "The mean number of days of treatment for first-line therapy A:  \n",
      " 80\n",
      "Range:  74 ,  93\n",
      "\n",
      "\n",
      "The mean number of days of treatment for first-line therapy B:  \n",
      " 191\n",
      "Range:  0 ,  1001\n"
     ]
    }
   ],
   "source": [
    "print('The mean number of days of treatment for first-line therapy A: ', '\\n', t_bi_A['treatment_lenght'].mean().days)\n",
    "print('Range: ', t_bi_A['treatment_lenght'].min().days, ', ', t_bi_A['treatment_lenght'].max().days)\n",
    "print('\\n')\n",
    "print('The mean number of days of treatment for first-line therapy B: ', '\\n', t_bi_B['treatment_lenght'].mean().days)\n",
    "print('Range: ', t_bi_B['treatment_lenght'].min().days, ', ', t_bi_B['treatment_lenght'].max().days)"
   ]
  },
  {
   "cell_type": "markdown",
   "metadata": {},
   "source": [
    "### Answer 4:\n",
    "\n",
    "It appears that those who are given Drug B as their first line therapy spend over double the amount of days in treatment. For drug A the mean number of days is 80 while for drug B it is 191 days. We should note that on top of a small sample for both drugs, drug A has a very narrow range 74 days to 93 days while drug B is rather large ranging from 0 days to over 1000 days so this limits the inferance we can make about his average."
   ]
  },
  {
   "cell_type": "markdown",
   "metadata": {},
   "source": [
    "# General Questions\n",
    "Thoughts going further about what else we want to know about this data and these patients."
   ]
  },
  {
   "cell_type": "markdown",
   "metadata": {},
   "source": [
    "## Question 1:\n",
    "\n",
    "When presented with a new dataset or database, what steps do you generally take to evaluate it prior to working with it?"
   ]
  },
  {
   "cell_type": "markdown",
   "metadata": {},
   "source": [
    "### Answer 1:\n",
    "\n",
    "With a new data set, it is important to get an idea of the structure of the data. Does it appear to be cross-sectional, longitudinal, long/wide. Are there any duplicates in any sense, should this be allowed? I think it is important to get an idea of what the underlying data looks like before doing any work on it so that I have a concept of what results I should be getting. Further, understanding the values in the data. Are things categorical, do I need a data dictionary, what units are numbers measured in. "
   ]
  },
  {
   "cell_type": "markdown",
   "metadata": {},
   "source": [
    "## Question 2:\n",
    "\n",
    "Based on the information provided above and the attached dataset, what three questions would you like to understand prior to conducting any analysis of the data?"
   ]
  },
  {
   "cell_type": "markdown",
   "metadata": {},
   "source": [
    "### Answer 2:\n",
    "\n",
    "1) For those receiving Drugs A and B for first line therapy, is one of the two drugs more influential regarding outcomes?\n",
    "2) There is a person reporting treatment before diagnosis, what are the correct dates for this person?\n",
    "3) Is it best to collapse multiple diagnosis of the same cancer type for an individual?"
   ]
  },
  {
   "cell_type": "code",
   "execution_count": null,
   "metadata": {},
   "outputs": [],
   "source": []
  }
 ],
 "metadata": {
  "kernelspec": {
   "display_name": "Python 3",
   "language": "python",
   "name": "python3"
  },
  "language_info": {
   "codemirror_mode": {
    "name": "ipython",
    "version": 3
   },
   "file_extension": ".py",
   "mimetype": "text/x-python",
   "name": "python",
   "nbconvert_exporter": "python",
   "pygments_lexer": "ipython3",
   "version": "3.7.3"
  }
 },
 "nbformat": 4,
 "nbformat_minor": 2
}
